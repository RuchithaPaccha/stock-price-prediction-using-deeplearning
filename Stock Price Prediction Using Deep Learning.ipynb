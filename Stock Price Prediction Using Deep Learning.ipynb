{
  "cells": [
    {
      "cell_type": "markdown",
      "metadata": {
        "id": "v0y7eNP1Lz2Y"
      },
      "source": [
        "## Assignment: RNN\n",
        "## Name: Ruchitha Paccha\n",
        "## UId : U70955896"
      ]
    },
    {
      "cell_type": "markdown",
      "metadata": {
        "id": "qViJFAJzLz2b"
      },
      "source": [
        "## Introduction\n",
        "This analysis aims to predict the 10-day closing stock price of Amazon using historical data. We will use RNN, LSTM, GRU, and Conv1D techniques to predict the 10th-day closing price based on the closing prices of the past nine days. By comparing the performance of each model, we will determine which one performs the best and provide valuable insights for financial analysts and investors interested in leveraging machine learning for stock market predictions."
      ]
    },
    {
      "cell_type": "markdown",
      "metadata": {
        "id": "BbbNaeANLz2b"
      },
      "source": [
        "## Dataset Discription\n",
        "The dataset used in this analysis is sourced from Yahoo Finance and features historical stock prices for Amazon (Ticker: AMZN). The dataset covers the period from January 1, 2022, to December 31, 2023, and includes the following attributes:\n",
        "\n",
        "- **Date**: The trading date.\n",
        "- **Open**: The opening price of the stock for the respective trading day\n",
        "- **High**: The highest recorded price of the stock during the trading session.\n",
        "- **Low**:  The lowest recorded price of the stock during the trading session.\n",
        "- **Close**: The closing price of the stock for the trading day.\n",
        "- **Adj Close**:  The adjusted closing price after accounting for any corporate actions.\n",
        "- **Volume**: The total number of shares traded during the trading day.\n",
        "  \n",
        "The primary focus is on the 'Close' price, which serves as the target variable for prediction purposes. The goal is to train various machine learning models to forecast the closing price of the stock based on historical price movements. The performance of these models will be evaluated based on their ability to capture and foresee trends and reversals in the stock's price trajectory."
      ]
    },
    {
      "cell_type": "code",
      "execution_count": 46,
      "metadata": {
        "id": "okxCT3toQW0k"
      },
      "outputs": [],
      "source": [
        "import numpy as np\n",
        "import pandas as pd\n",
        "import matplotlib.pyplot as plt\n",
        "import yfinance as yf\n",
        "from sklearn.metrics import mean_squared_error\n",
        "import tensorflow as tf\n",
        "from tensorflow.keras.models import Sequential\n",
        "from tensorflow.keras.layers import Dense, LSTM, GRU, Conv1D, Flatten,SimpleRNN\n",
        "from tensorflow.keras.optimizers import Adam\n",
        "from sklearn.model_selection import train_test_split\n",
        "from tensorflow.keras.callbacks import EarlyStopping\n",
        "import time"
      ]
    },
    {
      "cell_type": "code",
      "execution_count": 47,
      "metadata": {
        "id": "l4DeQDPWQaLd"
      },
      "outputs": [],
      "source": [
        "amzn = yf.download('AMZN', start='2022-01-01', end='2023-12-31', progress=False)"
      ]
    },
    {
      "cell_type": "markdown",
      "metadata": {
        "id": "YQhatVbYLz2d"
      },
      "source": [
        "This code downloads the historical stock prices for Amazon from January 1, 2022, to December 31, 2023, and stores it in a Pandas DataFrame. The progress=False argument is used to turn off the progress bar while downloading the data."
      ]
    },
    {
      "cell_type": "markdown",
      "metadata": {
        "id": "rqtqkzUhUZTJ"
      },
      "source": [
        "Inspecting Data Columns"
      ]
    },
    {
      "cell_type": "code",
      "execution_count": 48,
      "metadata": {
        "id": "fHEpfuGITOxK"
      },
      "outputs": [],
      "source": [
        "df = pd.DataFrame(amzn)"
      ]
    },
    {
      "cell_type": "code",
      "execution_count": 49,
      "metadata": {
        "colab": {
          "base_uri": "https://localhost:8080/",
          "height": 238
        },
        "id": "4kGHVib4TWyY",
        "outputId": "c9c5e37b-c20b-4b1b-cd58-a42e54c648f1"
      },
      "outputs": [
        {
          "output_type": "execute_result",
          "data": {
            "text/plain": [
              "                  Open        High         Low       Close   Adj Close  \\\n",
              "Date                                                                     \n",
              "2022-01-03  167.550003  170.703506  166.160507  170.404495  170.404495   \n",
              "2022-01-04  170.438004  171.399994  166.349503  167.522003  167.522003   \n",
              "2022-01-05  166.882996  167.126495  164.356995  164.356995  164.356995   \n",
              "2022-01-06  163.450500  164.800003  161.936996  163.253998  163.253998   \n",
              "2022-01-07  163.839005  165.243500  162.031006  162.554001  162.554001   \n",
              "\n",
              "              Volume  \n",
              "Date                  \n",
              "2022-01-03  63520000  \n",
              "2022-01-04  70726000  \n",
              "2022-01-05  64302000  \n",
              "2022-01-06  51958000  \n",
              "2022-01-07  46606000  "
            ],
            "text/html": [
              "\n",
              "  <div id=\"df-96d577cc-52fe-41a5-bbf9-1ae7d1c2b898\" class=\"colab-df-container\">\n",
              "    <div>\n",
              "<style scoped>\n",
              "    .dataframe tbody tr th:only-of-type {\n",
              "        vertical-align: middle;\n",
              "    }\n",
              "\n",
              "    .dataframe tbody tr th {\n",
              "        vertical-align: top;\n",
              "    }\n",
              "\n",
              "    .dataframe thead th {\n",
              "        text-align: right;\n",
              "    }\n",
              "</style>\n",
              "<table border=\"1\" class=\"dataframe\">\n",
              "  <thead>\n",
              "    <tr style=\"text-align: right;\">\n",
              "      <th></th>\n",
              "      <th>Open</th>\n",
              "      <th>High</th>\n",
              "      <th>Low</th>\n",
              "      <th>Close</th>\n",
              "      <th>Adj Close</th>\n",
              "      <th>Volume</th>\n",
              "    </tr>\n",
              "    <tr>\n",
              "      <th>Date</th>\n",
              "      <th></th>\n",
              "      <th></th>\n",
              "      <th></th>\n",
              "      <th></th>\n",
              "      <th></th>\n",
              "      <th></th>\n",
              "    </tr>\n",
              "  </thead>\n",
              "  <tbody>\n",
              "    <tr>\n",
              "      <th>2022-01-03</th>\n",
              "      <td>167.550003</td>\n",
              "      <td>170.703506</td>\n",
              "      <td>166.160507</td>\n",
              "      <td>170.404495</td>\n",
              "      <td>170.404495</td>\n",
              "      <td>63520000</td>\n",
              "    </tr>\n",
              "    <tr>\n",
              "      <th>2022-01-04</th>\n",
              "      <td>170.438004</td>\n",
              "      <td>171.399994</td>\n",
              "      <td>166.349503</td>\n",
              "      <td>167.522003</td>\n",
              "      <td>167.522003</td>\n",
              "      <td>70726000</td>\n",
              "    </tr>\n",
              "    <tr>\n",
              "      <th>2022-01-05</th>\n",
              "      <td>166.882996</td>\n",
              "      <td>167.126495</td>\n",
              "      <td>164.356995</td>\n",
              "      <td>164.356995</td>\n",
              "      <td>164.356995</td>\n",
              "      <td>64302000</td>\n",
              "    </tr>\n",
              "    <tr>\n",
              "      <th>2022-01-06</th>\n",
              "      <td>163.450500</td>\n",
              "      <td>164.800003</td>\n",
              "      <td>161.936996</td>\n",
              "      <td>163.253998</td>\n",
              "      <td>163.253998</td>\n",
              "      <td>51958000</td>\n",
              "    </tr>\n",
              "    <tr>\n",
              "      <th>2022-01-07</th>\n",
              "      <td>163.839005</td>\n",
              "      <td>165.243500</td>\n",
              "      <td>162.031006</td>\n",
              "      <td>162.554001</td>\n",
              "      <td>162.554001</td>\n",
              "      <td>46606000</td>\n",
              "    </tr>\n",
              "  </tbody>\n",
              "</table>\n",
              "</div>\n",
              "    <div class=\"colab-df-buttons\">\n",
              "\n",
              "  <div class=\"colab-df-container\">\n",
              "    <button class=\"colab-df-convert\" onclick=\"convertToInteractive('df-96d577cc-52fe-41a5-bbf9-1ae7d1c2b898')\"\n",
              "            title=\"Convert this dataframe to an interactive table.\"\n",
              "            style=\"display:none;\">\n",
              "\n",
              "  <svg xmlns=\"http://www.w3.org/2000/svg\" height=\"24px\" viewBox=\"0 -960 960 960\">\n",
              "    <path d=\"M120-120v-720h720v720H120Zm60-500h600v-160H180v160Zm220 220h160v-160H400v160Zm0 220h160v-160H400v160ZM180-400h160v-160H180v160Zm440 0h160v-160H620v160ZM180-180h160v-160H180v160Zm440 0h160v-160H620v160Z\"/>\n",
              "  </svg>\n",
              "    </button>\n",
              "\n",
              "  <style>\n",
              "    .colab-df-container {\n",
              "      display:flex;\n",
              "      gap: 12px;\n",
              "    }\n",
              "\n",
              "    .colab-df-convert {\n",
              "      background-color: #E8F0FE;\n",
              "      border: none;\n",
              "      border-radius: 50%;\n",
              "      cursor: pointer;\n",
              "      display: none;\n",
              "      fill: #1967D2;\n",
              "      height: 32px;\n",
              "      padding: 0 0 0 0;\n",
              "      width: 32px;\n",
              "    }\n",
              "\n",
              "    .colab-df-convert:hover {\n",
              "      background-color: #E2EBFA;\n",
              "      box-shadow: 0px 1px 2px rgba(60, 64, 67, 0.3), 0px 1px 3px 1px rgba(60, 64, 67, 0.15);\n",
              "      fill: #174EA6;\n",
              "    }\n",
              "\n",
              "    .colab-df-buttons div {\n",
              "      margin-bottom: 4px;\n",
              "    }\n",
              "\n",
              "    [theme=dark] .colab-df-convert {\n",
              "      background-color: #3B4455;\n",
              "      fill: #D2E3FC;\n",
              "    }\n",
              "\n",
              "    [theme=dark] .colab-df-convert:hover {\n",
              "      background-color: #434B5C;\n",
              "      box-shadow: 0px 1px 3px 1px rgba(0, 0, 0, 0.15);\n",
              "      filter: drop-shadow(0px 1px 2px rgba(0, 0, 0, 0.3));\n",
              "      fill: #FFFFFF;\n",
              "    }\n",
              "  </style>\n",
              "\n",
              "    <script>\n",
              "      const buttonEl =\n",
              "        document.querySelector('#df-96d577cc-52fe-41a5-bbf9-1ae7d1c2b898 button.colab-df-convert');\n",
              "      buttonEl.style.display =\n",
              "        google.colab.kernel.accessAllowed ? 'block' : 'none';\n",
              "\n",
              "      async function convertToInteractive(key) {\n",
              "        const element = document.querySelector('#df-96d577cc-52fe-41a5-bbf9-1ae7d1c2b898');\n",
              "        const dataTable =\n",
              "          await google.colab.kernel.invokeFunction('convertToInteractive',\n",
              "                                                    [key], {});\n",
              "        if (!dataTable) return;\n",
              "\n",
              "        const docLinkHtml = 'Like what you see? Visit the ' +\n",
              "          '<a target=\"_blank\" href=https://colab.research.google.com/notebooks/data_table.ipynb>data table notebook</a>'\n",
              "          + ' to learn more about interactive tables.';\n",
              "        element.innerHTML = '';\n",
              "        dataTable['output_type'] = 'display_data';\n",
              "        await google.colab.output.renderOutput(dataTable, element);\n",
              "        const docLink = document.createElement('div');\n",
              "        docLink.innerHTML = docLinkHtml;\n",
              "        element.appendChild(docLink);\n",
              "      }\n",
              "    </script>\n",
              "  </div>\n",
              "\n",
              "\n",
              "<div id=\"df-5e22bf0f-edb5-4e1a-8b70-f48516036b73\">\n",
              "  <button class=\"colab-df-quickchart\" onclick=\"quickchart('df-5e22bf0f-edb5-4e1a-8b70-f48516036b73')\"\n",
              "            title=\"Suggest charts\"\n",
              "            style=\"display:none;\">\n",
              "\n",
              "<svg xmlns=\"http://www.w3.org/2000/svg\" height=\"24px\"viewBox=\"0 0 24 24\"\n",
              "     width=\"24px\">\n",
              "    <g>\n",
              "        <path d=\"M19 3H5c-1.1 0-2 .9-2 2v14c0 1.1.9 2 2 2h14c1.1 0 2-.9 2-2V5c0-1.1-.9-2-2-2zM9 17H7v-7h2v7zm4 0h-2V7h2v10zm4 0h-2v-4h2v4z\"/>\n",
              "    </g>\n",
              "</svg>\n",
              "  </button>\n",
              "\n",
              "<style>\n",
              "  .colab-df-quickchart {\n",
              "      --bg-color: #E8F0FE;\n",
              "      --fill-color: #1967D2;\n",
              "      --hover-bg-color: #E2EBFA;\n",
              "      --hover-fill-color: #174EA6;\n",
              "      --disabled-fill-color: #AAA;\n",
              "      --disabled-bg-color: #DDD;\n",
              "  }\n",
              "\n",
              "  [theme=dark] .colab-df-quickchart {\n",
              "      --bg-color: #3B4455;\n",
              "      --fill-color: #D2E3FC;\n",
              "      --hover-bg-color: #434B5C;\n",
              "      --hover-fill-color: #FFFFFF;\n",
              "      --disabled-bg-color: #3B4455;\n",
              "      --disabled-fill-color: #666;\n",
              "  }\n",
              "\n",
              "  .colab-df-quickchart {\n",
              "    background-color: var(--bg-color);\n",
              "    border: none;\n",
              "    border-radius: 50%;\n",
              "    cursor: pointer;\n",
              "    display: none;\n",
              "    fill: var(--fill-color);\n",
              "    height: 32px;\n",
              "    padding: 0;\n",
              "    width: 32px;\n",
              "  }\n",
              "\n",
              "  .colab-df-quickchart:hover {\n",
              "    background-color: var(--hover-bg-color);\n",
              "    box-shadow: 0 1px 2px rgba(60, 64, 67, 0.3), 0 1px 3px 1px rgba(60, 64, 67, 0.15);\n",
              "    fill: var(--button-hover-fill-color);\n",
              "  }\n",
              "\n",
              "  .colab-df-quickchart-complete:disabled,\n",
              "  .colab-df-quickchart-complete:disabled:hover {\n",
              "    background-color: var(--disabled-bg-color);\n",
              "    fill: var(--disabled-fill-color);\n",
              "    box-shadow: none;\n",
              "  }\n",
              "\n",
              "  .colab-df-spinner {\n",
              "    border: 2px solid var(--fill-color);\n",
              "    border-color: transparent;\n",
              "    border-bottom-color: var(--fill-color);\n",
              "    animation:\n",
              "      spin 1s steps(1) infinite;\n",
              "  }\n",
              "\n",
              "  @keyframes spin {\n",
              "    0% {\n",
              "      border-color: transparent;\n",
              "      border-bottom-color: var(--fill-color);\n",
              "      border-left-color: var(--fill-color);\n",
              "    }\n",
              "    20% {\n",
              "      border-color: transparent;\n",
              "      border-left-color: var(--fill-color);\n",
              "      border-top-color: var(--fill-color);\n",
              "    }\n",
              "    30% {\n",
              "      border-color: transparent;\n",
              "      border-left-color: var(--fill-color);\n",
              "      border-top-color: var(--fill-color);\n",
              "      border-right-color: var(--fill-color);\n",
              "    }\n",
              "    40% {\n",
              "      border-color: transparent;\n",
              "      border-right-color: var(--fill-color);\n",
              "      border-top-color: var(--fill-color);\n",
              "    }\n",
              "    60% {\n",
              "      border-color: transparent;\n",
              "      border-right-color: var(--fill-color);\n",
              "    }\n",
              "    80% {\n",
              "      border-color: transparent;\n",
              "      border-right-color: var(--fill-color);\n",
              "      border-bottom-color: var(--fill-color);\n",
              "    }\n",
              "    90% {\n",
              "      border-color: transparent;\n",
              "      border-bottom-color: var(--fill-color);\n",
              "    }\n",
              "  }\n",
              "</style>\n",
              "\n",
              "  <script>\n",
              "    async function quickchart(key) {\n",
              "      const quickchartButtonEl =\n",
              "        document.querySelector('#' + key + ' button');\n",
              "      quickchartButtonEl.disabled = true;  // To prevent multiple clicks.\n",
              "      quickchartButtonEl.classList.add('colab-df-spinner');\n",
              "      try {\n",
              "        const charts = await google.colab.kernel.invokeFunction(\n",
              "            'suggestCharts', [key], {});\n",
              "      } catch (error) {\n",
              "        console.error('Error during call to suggestCharts:', error);\n",
              "      }\n",
              "      quickchartButtonEl.classList.remove('colab-df-spinner');\n",
              "      quickchartButtonEl.classList.add('colab-df-quickchart-complete');\n",
              "    }\n",
              "    (() => {\n",
              "      let quickchartButtonEl =\n",
              "        document.querySelector('#df-5e22bf0f-edb5-4e1a-8b70-f48516036b73 button');\n",
              "      quickchartButtonEl.style.display =\n",
              "        google.colab.kernel.accessAllowed ? 'block' : 'none';\n",
              "    })();\n",
              "  </script>\n",
              "</div>\n",
              "\n",
              "    </div>\n",
              "  </div>\n"
            ],
            "application/vnd.google.colaboratory.intrinsic+json": {
              "type": "dataframe",
              "variable_name": "df",
              "summary": "{\n  \"name\": \"df\",\n  \"rows\": 501,\n  \"fields\": [\n    {\n      \"column\": \"Date\",\n      \"properties\": {\n        \"dtype\": \"date\",\n        \"min\": \"2022-01-03 00:00:00\",\n        \"max\": \"2023-12-29 00:00:00\",\n        \"num_unique_values\": 501,\n        \"samples\": [\n          \"2023-06-13 00:00:00\",\n          \"2022-04-19 00:00:00\",\n          \"2023-07-03 00:00:00\"\n        ],\n        \"semantic_type\": \"\",\n        \"description\": \"\"\n      }\n    },\n    {\n      \"column\": \"Open\",\n      \"properties\": {\n        \"dtype\": \"number\",\n        \"std\": 21.717834341766327,\n        \"min\": 82.80000305175781,\n        \"max\": 170.43800354003906,\n        \"num_unique_values\": 482,\n        \"samples\": [\n          131.94000244140625,\n          149.92999267578125,\n          117.19999694824219\n        ],\n        \"semantic_type\": \"\",\n        \"description\": \"\"\n      }\n    },\n    {\n      \"column\": \"High\",\n      \"properties\": {\n        \"dtype\": \"number\",\n        \"std\": 21.798850534304318,\n        \"min\": 83.4800033569336,\n        \"max\": 171.39999389648438,\n        \"num_unique_values\": 485,\n        \"samples\": [\n          132.02999877929688,\n          150.57000732421875,\n          116.05000305175781\n        ],\n        \"semantic_type\": \"\",\n        \"description\": \"\"\n      }\n    },\n    {\n      \"column\": \"Low\",\n      \"properties\": {\n        \"dtype\": \"number\",\n        \"std\": 21.538422207368047,\n        \"min\": 81.43000030517578,\n        \"max\": 167.86849975585938,\n        \"num_unique_values\": 488,\n        \"samples\": [\n          150.25050354003906,\n          82.25,\n          127.51000213623047\n        ],\n        \"semantic_type\": \"\",\n        \"description\": \"\"\n      }\n    },\n    {\n      \"column\": \"Close\",\n      \"properties\": {\n        \"dtype\": \"number\",\n        \"std\": 21.66129032720028,\n        \"min\": 81.81999969482422,\n        \"max\": 170.4044952392578,\n        \"num_unique_values\": 483,\n        \"samples\": [\n          140.38999938964844,\n          149.97000122070312,\n          117.30999755859375\n        ],\n        \"semantic_type\": \"\",\n        \"description\": \"\"\n      }\n    },\n    {\n      \"column\": \"Adj Close\",\n      \"properties\": {\n        \"dtype\": \"number\",\n        \"std\": 21.66129032720028,\n        \"min\": 81.81999969482422,\n        \"max\": 170.4044952392578,\n        \"num_unique_values\": 483,\n        \"samples\": [\n          140.38999938964844,\n          149.97000122070312,\n          117.30999755859375\n        ],\n        \"semantic_type\": \"\",\n        \"description\": \"\"\n      }\n    },\n    {\n      \"column\": \"Volume\",\n      \"properties\": {\n        \"dtype\": \"number\",\n        \"std\": 29590255,\n        \"min\": 22378400,\n        \"max\": 272662000,\n        \"num_unique_values\": 501,\n        \"samples\": [\n          50564800,\n          54926000,\n          28264800\n        ],\n        \"semantic_type\": \"\",\n        \"description\": \"\"\n      }\n    }\n  ]\n}"
            }
          },
          "metadata": {},
          "execution_count": 49
        }
      ],
      "source": [
        "df.head()"
      ]
    },
    {
      "cell_type": "markdown",
      "metadata": {
        "id": "AsXgBLBnLz2e"
      },
      "source": [
        "The Amazon stock prices dataset from Yahoo Finance, including the following attributes: Date, Open, High, Low, Close, Adj Close, and Volume. The focus is on predicting the 'Close' price using machine learning models."
      ]
    },
    {
      "cell_type": "code",
      "execution_count": 50,
      "metadata": {
        "colab": {
          "base_uri": "https://localhost:8080/"
        },
        "id": "yzZgqQt3T2xz",
        "outputId": "fdfacfb2-820f-4b41-aa0e-3034fd410c64"
      },
      "outputs": [
        {
          "output_type": "execute_result",
          "data": {
            "text/plain": [
              "Index(['Open', 'High', 'Low', 'Close', 'Adj Close', 'Volume'], dtype='object')"
            ]
          },
          "metadata": {},
          "execution_count": 50
        }
      ],
      "source": [
        "df.columns"
      ]
    },
    {
      "cell_type": "code",
      "execution_count": 51,
      "metadata": {
        "colab": {
          "base_uri": "https://localhost:8080/",
          "height": 238
        },
        "id": "Oa7RwmEaT5kg",
        "outputId": "5b76c7d6-e307-498e-e0b1-bbc5b61d134a"
      },
      "outputs": [
        {
          "output_type": "execute_result",
          "data": {
            "text/plain": [
              "                 Close\n",
              "Date                  \n",
              "2022-01-03  170.404495\n",
              "2022-01-04  167.522003\n",
              "2022-01-05  164.356995\n",
              "2022-01-06  163.253998\n",
              "2022-01-07  162.554001"
            ],
            "text/html": [
              "\n",
              "  <div id=\"df-e36a1acd-7876-4e8e-978d-cbddd6a0e4f6\" class=\"colab-df-container\">\n",
              "    <div>\n",
              "<style scoped>\n",
              "    .dataframe tbody tr th:only-of-type {\n",
              "        vertical-align: middle;\n",
              "    }\n",
              "\n",
              "    .dataframe tbody tr th {\n",
              "        vertical-align: top;\n",
              "    }\n",
              "\n",
              "    .dataframe thead th {\n",
              "        text-align: right;\n",
              "    }\n",
              "</style>\n",
              "<table border=\"1\" class=\"dataframe\">\n",
              "  <thead>\n",
              "    <tr style=\"text-align: right;\">\n",
              "      <th></th>\n",
              "      <th>Close</th>\n",
              "    </tr>\n",
              "    <tr>\n",
              "      <th>Date</th>\n",
              "      <th></th>\n",
              "    </tr>\n",
              "  </thead>\n",
              "  <tbody>\n",
              "    <tr>\n",
              "      <th>2022-01-03</th>\n",
              "      <td>170.404495</td>\n",
              "    </tr>\n",
              "    <tr>\n",
              "      <th>2022-01-04</th>\n",
              "      <td>167.522003</td>\n",
              "    </tr>\n",
              "    <tr>\n",
              "      <th>2022-01-05</th>\n",
              "      <td>164.356995</td>\n",
              "    </tr>\n",
              "    <tr>\n",
              "      <th>2022-01-06</th>\n",
              "      <td>163.253998</td>\n",
              "    </tr>\n",
              "    <tr>\n",
              "      <th>2022-01-07</th>\n",
              "      <td>162.554001</td>\n",
              "    </tr>\n",
              "  </tbody>\n",
              "</table>\n",
              "</div>\n",
              "    <div class=\"colab-df-buttons\">\n",
              "\n",
              "  <div class=\"colab-df-container\">\n",
              "    <button class=\"colab-df-convert\" onclick=\"convertToInteractive('df-e36a1acd-7876-4e8e-978d-cbddd6a0e4f6')\"\n",
              "            title=\"Convert this dataframe to an interactive table.\"\n",
              "            style=\"display:none;\">\n",
              "\n",
              "  <svg xmlns=\"http://www.w3.org/2000/svg\" height=\"24px\" viewBox=\"0 -960 960 960\">\n",
              "    <path d=\"M120-120v-720h720v720H120Zm60-500h600v-160H180v160Zm220 220h160v-160H400v160Zm0 220h160v-160H400v160ZM180-400h160v-160H180v160Zm440 0h160v-160H620v160ZM180-180h160v-160H180v160Zm440 0h160v-160H620v160Z\"/>\n",
              "  </svg>\n",
              "    </button>\n",
              "\n",
              "  <style>\n",
              "    .colab-df-container {\n",
              "      display:flex;\n",
              "      gap: 12px;\n",
              "    }\n",
              "\n",
              "    .colab-df-convert {\n",
              "      background-color: #E8F0FE;\n",
              "      border: none;\n",
              "      border-radius: 50%;\n",
              "      cursor: pointer;\n",
              "      display: none;\n",
              "      fill: #1967D2;\n",
              "      height: 32px;\n",
              "      padding: 0 0 0 0;\n",
              "      width: 32px;\n",
              "    }\n",
              "\n",
              "    .colab-df-convert:hover {\n",
              "      background-color: #E2EBFA;\n",
              "      box-shadow: 0px 1px 2px rgba(60, 64, 67, 0.3), 0px 1px 3px 1px rgba(60, 64, 67, 0.15);\n",
              "      fill: #174EA6;\n",
              "    }\n",
              "\n",
              "    .colab-df-buttons div {\n",
              "      margin-bottom: 4px;\n",
              "    }\n",
              "\n",
              "    [theme=dark] .colab-df-convert {\n",
              "      background-color: #3B4455;\n",
              "      fill: #D2E3FC;\n",
              "    }\n",
              "\n",
              "    [theme=dark] .colab-df-convert:hover {\n",
              "      background-color: #434B5C;\n",
              "      box-shadow: 0px 1px 3px 1px rgba(0, 0, 0, 0.15);\n",
              "      filter: drop-shadow(0px 1px 2px rgba(0, 0, 0, 0.3));\n",
              "      fill: #FFFFFF;\n",
              "    }\n",
              "  </style>\n",
              "\n",
              "    <script>\n",
              "      const buttonEl =\n",
              "        document.querySelector('#df-e36a1acd-7876-4e8e-978d-cbddd6a0e4f6 button.colab-df-convert');\n",
              "      buttonEl.style.display =\n",
              "        google.colab.kernel.accessAllowed ? 'block' : 'none';\n",
              "\n",
              "      async function convertToInteractive(key) {\n",
              "        const element = document.querySelector('#df-e36a1acd-7876-4e8e-978d-cbddd6a0e4f6');\n",
              "        const dataTable =\n",
              "          await google.colab.kernel.invokeFunction('convertToInteractive',\n",
              "                                                    [key], {});\n",
              "        if (!dataTable) return;\n",
              "\n",
              "        const docLinkHtml = 'Like what you see? Visit the ' +\n",
              "          '<a target=\"_blank\" href=https://colab.research.google.com/notebooks/data_table.ipynb>data table notebook</a>'\n",
              "          + ' to learn more about interactive tables.';\n",
              "        element.innerHTML = '';\n",
              "        dataTable['output_type'] = 'display_data';\n",
              "        await google.colab.output.renderOutput(dataTable, element);\n",
              "        const docLink = document.createElement('div');\n",
              "        docLink.innerHTML = docLinkHtml;\n",
              "        element.appendChild(docLink);\n",
              "      }\n",
              "    </script>\n",
              "  </div>\n",
              "\n",
              "\n",
              "<div id=\"df-e98ed3ad-9ca5-4f77-b3b2-b75348847633\">\n",
              "  <button class=\"colab-df-quickchart\" onclick=\"quickchart('df-e98ed3ad-9ca5-4f77-b3b2-b75348847633')\"\n",
              "            title=\"Suggest charts\"\n",
              "            style=\"display:none;\">\n",
              "\n",
              "<svg xmlns=\"http://www.w3.org/2000/svg\" height=\"24px\"viewBox=\"0 0 24 24\"\n",
              "     width=\"24px\">\n",
              "    <g>\n",
              "        <path d=\"M19 3H5c-1.1 0-2 .9-2 2v14c0 1.1.9 2 2 2h14c1.1 0 2-.9 2-2V5c0-1.1-.9-2-2-2zM9 17H7v-7h2v7zm4 0h-2V7h2v10zm4 0h-2v-4h2v4z\"/>\n",
              "    </g>\n",
              "</svg>\n",
              "  </button>\n",
              "\n",
              "<style>\n",
              "  .colab-df-quickchart {\n",
              "      --bg-color: #E8F0FE;\n",
              "      --fill-color: #1967D2;\n",
              "      --hover-bg-color: #E2EBFA;\n",
              "      --hover-fill-color: #174EA6;\n",
              "      --disabled-fill-color: #AAA;\n",
              "      --disabled-bg-color: #DDD;\n",
              "  }\n",
              "\n",
              "  [theme=dark] .colab-df-quickchart {\n",
              "      --bg-color: #3B4455;\n",
              "      --fill-color: #D2E3FC;\n",
              "      --hover-bg-color: #434B5C;\n",
              "      --hover-fill-color: #FFFFFF;\n",
              "      --disabled-bg-color: #3B4455;\n",
              "      --disabled-fill-color: #666;\n",
              "  }\n",
              "\n",
              "  .colab-df-quickchart {\n",
              "    background-color: var(--bg-color);\n",
              "    border: none;\n",
              "    border-radius: 50%;\n",
              "    cursor: pointer;\n",
              "    display: none;\n",
              "    fill: var(--fill-color);\n",
              "    height: 32px;\n",
              "    padding: 0;\n",
              "    width: 32px;\n",
              "  }\n",
              "\n",
              "  .colab-df-quickchart:hover {\n",
              "    background-color: var(--hover-bg-color);\n",
              "    box-shadow: 0 1px 2px rgba(60, 64, 67, 0.3), 0 1px 3px 1px rgba(60, 64, 67, 0.15);\n",
              "    fill: var(--button-hover-fill-color);\n",
              "  }\n",
              "\n",
              "  .colab-df-quickchart-complete:disabled,\n",
              "  .colab-df-quickchart-complete:disabled:hover {\n",
              "    background-color: var(--disabled-bg-color);\n",
              "    fill: var(--disabled-fill-color);\n",
              "    box-shadow: none;\n",
              "  }\n",
              "\n",
              "  .colab-df-spinner {\n",
              "    border: 2px solid var(--fill-color);\n",
              "    border-color: transparent;\n",
              "    border-bottom-color: var(--fill-color);\n",
              "    animation:\n",
              "      spin 1s steps(1) infinite;\n",
              "  }\n",
              "\n",
              "  @keyframes spin {\n",
              "    0% {\n",
              "      border-color: transparent;\n",
              "      border-bottom-color: var(--fill-color);\n",
              "      border-left-color: var(--fill-color);\n",
              "    }\n",
              "    20% {\n",
              "      border-color: transparent;\n",
              "      border-left-color: var(--fill-color);\n",
              "      border-top-color: var(--fill-color);\n",
              "    }\n",
              "    30% {\n",
              "      border-color: transparent;\n",
              "      border-left-color: var(--fill-color);\n",
              "      border-top-color: var(--fill-color);\n",
              "      border-right-color: var(--fill-color);\n",
              "    }\n",
              "    40% {\n",
              "      border-color: transparent;\n",
              "      border-right-color: var(--fill-color);\n",
              "      border-top-color: var(--fill-color);\n",
              "    }\n",
              "    60% {\n",
              "      border-color: transparent;\n",
              "      border-right-color: var(--fill-color);\n",
              "    }\n",
              "    80% {\n",
              "      border-color: transparent;\n",
              "      border-right-color: var(--fill-color);\n",
              "      border-bottom-color: var(--fill-color);\n",
              "    }\n",
              "    90% {\n",
              "      border-color: transparent;\n",
              "      border-bottom-color: var(--fill-color);\n",
              "    }\n",
              "  }\n",
              "</style>\n",
              "\n",
              "  <script>\n",
              "    async function quickchart(key) {\n",
              "      const quickchartButtonEl =\n",
              "        document.querySelector('#' + key + ' button');\n",
              "      quickchartButtonEl.disabled = true;  // To prevent multiple clicks.\n",
              "      quickchartButtonEl.classList.add('colab-df-spinner');\n",
              "      try {\n",
              "        const charts = await google.colab.kernel.invokeFunction(\n",
              "            'suggestCharts', [key], {});\n",
              "      } catch (error) {\n",
              "        console.error('Error during call to suggestCharts:', error);\n",
              "      }\n",
              "      quickchartButtonEl.classList.remove('colab-df-spinner');\n",
              "      quickchartButtonEl.classList.add('colab-df-quickchart-complete');\n",
              "    }\n",
              "    (() => {\n",
              "      let quickchartButtonEl =\n",
              "        document.querySelector('#df-e98ed3ad-9ca5-4f77-b3b2-b75348847633 button');\n",
              "      quickchartButtonEl.style.display =\n",
              "        google.colab.kernel.accessAllowed ? 'block' : 'none';\n",
              "    })();\n",
              "  </script>\n",
              "</div>\n",
              "\n",
              "    </div>\n",
              "  </div>\n"
            ],
            "application/vnd.google.colaboratory.intrinsic+json": {
              "type": "dataframe",
              "variable_name": "df",
              "summary": "{\n  \"name\": \"df\",\n  \"rows\": 501,\n  \"fields\": [\n    {\n      \"column\": \"Date\",\n      \"properties\": {\n        \"dtype\": \"date\",\n        \"min\": \"2022-01-03 00:00:00\",\n        \"max\": \"2023-12-29 00:00:00\",\n        \"num_unique_values\": 501,\n        \"samples\": [\n          \"2023-06-13 00:00:00\",\n          \"2022-04-19 00:00:00\",\n          \"2023-07-03 00:00:00\"\n        ],\n        \"semantic_type\": \"\",\n        \"description\": \"\"\n      }\n    },\n    {\n      \"column\": \"Close\",\n      \"properties\": {\n        \"dtype\": \"number\",\n        \"std\": 21.66129032720028,\n        \"min\": 81.81999969482422,\n        \"max\": 170.4044952392578,\n        \"num_unique_values\": 483,\n        \"samples\": [\n          140.38999938964844,\n          149.97000122070312,\n          117.30999755859375\n        ],\n        \"semantic_type\": \"\",\n        \"description\": \"\"\n      }\n    }\n  ]\n}"
            }
          },
          "metadata": {},
          "execution_count": 51
        }
      ],
      "source": [
        "df = df[['Close']]\n",
        "df.head()"
      ]
    },
    {
      "cell_type": "markdown",
      "metadata": {
        "id": "VZ77mwweLz2f"
      },
      "source": [
        "The output of the code is  closing prices for Amazon stock for the first five trading days of January 2022."
      ]
    },
    {
      "cell_type": "code",
      "execution_count": 52,
      "metadata": {
        "colab": {
          "base_uri": "https://localhost:8080/"
        },
        "id": "k8RvS6cGT5wr",
        "outputId": "9a366e4c-f3e7-4421-9627-046589cef8f9"
      },
      "outputs": [
        {
          "output_type": "execute_result",
          "data": {
            "text/plain": [
              "Close    0\n",
              "dtype: int64"
            ]
          },
          "metadata": {},
          "execution_count": 52
        }
      ],
      "source": [
        "df[['Close']].isna().sum()"
      ]
    },
    {
      "cell_type": "markdown",
      "metadata": {
        "id": "HFf7ZliPLz2f"
      },
      "source": [
        "This code checks if there are any missing values in the 'Close' column of the DataFrame. The output Close 0 indicates that there are no missing values in the 'Close' column."
      ]
    },
    {
      "cell_type": "markdown",
      "metadata": {
        "id": "7cCFqvW5Uclz"
      },
      "source": [
        "## Preparing Data for Time Series"
      ]
    },
    {
      "cell_type": "code",
      "execution_count": 53,
      "metadata": {
        "colab": {
          "base_uri": "https://localhost:8080/"
        },
        "id": "SxPZqg2OUw_f",
        "outputId": "082d7db7-5753-46ef-aa80-4cca984d1d98"
      },
      "outputs": [
        {
          "output_type": "execute_result",
          "data": {
            "text/plain": [
              "501"
            ]
          },
          "metadata": {},
          "execution_count": 53
        }
      ],
      "source": [
        "row_count = df.shape[0]\n",
        "row_count"
      ]
    },
    {
      "cell_type": "markdown",
      "metadata": {
        "id": "1RCPxx81Lz2f"
      },
      "source": [
        "The code row_count = df.shape[0] calculates the number of rows in the DataFrame df and assigns it to the variable row_count."
      ]
    },
    {
      "cell_type": "code",
      "execution_count": 54,
      "metadata": {
        "colab": {
          "base_uri": "https://localhost:8080/"
        },
        "id": "UfLZZ_MaVC8-",
        "outputId": "83126910-0386-4a32-a53e-6e65dc0e2b0e"
      },
      "outputs": [
        {
          "output_type": "execute_result",
          "data": {
            "text/plain": [
              "(501, 1)"
            ]
          },
          "metadata": {},
          "execution_count": 54
        }
      ],
      "source": [
        "stocks = df.to_numpy()\n",
        "stocks.shape"
      ]
    },
    {
      "cell_type": "markdown",
      "metadata": {
        "id": "SqmLqRMALz2g"
      },
      "source": [
        "The code stocks.shape returns the shape of the NumPy array stocks as a tuple, where the first element is the number of rows and the second element is the number of columns."
      ]
    },
    {
      "cell_type": "code",
      "execution_count": 55,
      "metadata": {
        "id": "MBulrb1ZVia3"
      },
      "outputs": [],
      "source": [
        "sequence_length = 10"
      ]
    },
    {
      "cell_type": "markdown",
      "metadata": {
        "id": "Q1WvH7niLz2g"
      },
      "source": [
        "The variable sequence_length is set to 10, which represents the number of time steps to be used as input for the machine learning model. This value can be adjusted based on the specific use case and data."
      ]
    },
    {
      "cell_type": "code",
      "execution_count": 56,
      "metadata": {
        "colab": {
          "base_uri": "https://localhost:8080/"
        },
        "id": "uNWI0vSPWYgz",
        "outputId": "e0808d58-122b-4b3b-de33-1fc4bc21a23e"
      },
      "outputs": [
        {
          "output_type": "execute_result",
          "data": {
            "text/plain": [
              "(500, 1)"
            ]
          },
          "metadata": {},
          "execution_count": 56
        }
      ],
      "source": [
        "stocks = stocks[row_count % sequence_length: ]\n",
        "stocks.shape"
      ]
    },
    {
      "cell_type": "markdown",
      "metadata": {
        "id": "OdaOy1obLz2g"
      },
      "source": [
        "The shape of the stocks array after slicing is (500, 1)."
      ]
    },
    {
      "cell_type": "code",
      "execution_count": 57,
      "metadata": {
        "colab": {
          "base_uri": "https://localhost:8080/"
        },
        "id": "Qqqmgg9TWdvU",
        "outputId": "09706493-2e18-4cbb-d37a-1f146a2ed5e0"
      },
      "outputs": [
        {
          "output_type": "execute_result",
          "data": {
            "text/plain": [
              "array([[167.52200317, 164.35699463, 163.2539978 , 162.55400085,\n",
              "        161.48599243, 165.36199951, 165.20700073, 161.21400452,\n",
              "        162.13800049, 158.91749573],\n",
              "       [156.29899597, 151.66749573, 142.64300537, 144.54400635,\n",
              "        139.98599243, 138.87249756, 139.63749695, 143.97799683,\n",
              "        149.57350159, 151.1934967 ],\n",
              "       [150.61250305, 138.84550476, 157.63949585, 157.9355011 ,\n",
              "        161.41349792, 161.1894989 , 159.00349426, 153.29350281,\n",
              "        155.16700745, 156.51049805],\n",
              "       [158.10049438, 154.65249634, 152.60150146, 150.19749451,\n",
              "        144.82699585, 151.35800171, 153.78849792, 153.56300354,\n",
              "        151.14199829, 152.05250549],\n",
              "       [147.89849854, 145.64100647, 137.45300293, 136.01449585,\n",
              "        139.27900696, 146.81750488, 145.52450562, 141.85299683,\n",
              "        147.36650085, 153.10400391],\n",
              "       [157.23899841, 161.25050354, 161.49150085, 164.88900757,\n",
              "        163.40800476, 163.64950562, 164.77349854, 168.99049377,\n",
              "        169.31500244, 166.30099487],\n",
              "       [162.99749756, 163.55999756, 168.34649658, 164.05499268,\n",
              "        158.7559967 , 157.78450012, 154.460495  , 151.12199402,\n",
              "        150.7875061 , 155.54100037],\n",
              "       [151.70649719, 152.78500366, 158.11549377, 153.9980011 ,\n",
              "        148.29600525, 144.3500061 , 146.07400513, 139.39100647,\n",
              "        138.16700745, 144.59649658],\n",
              "       [124.28150177, 124.5       , 124.25350189, 125.92849731,\n",
              "        116.40699768, 114.77249908, 108.78900146, 108.85900116,\n",
              "        105.37200165, 106.93049622],\n",
              "       [113.05500031, 110.8105011 , 115.36849976, 107.11250305,\n",
              "        107.31900024, 107.59100342, 107.55699921, 104.09999847,\n",
              "        106.77500153, 111.07749939],\n",
              "       [115.14649963, 120.20950317, 121.68399811, 125.51100159,\n",
              "        122.34999847, 124.79000092, 123.        , 121.18000031,\n",
              "        116.15000153, 109.65000153],\n",
              "       [103.66999817, 102.30999756, 107.66999817, 103.66000366,\n",
              "        106.22000122, 108.68000031, 108.94999695, 112.44000244,\n",
              "        116.45999908, 113.22000122],\n",
              "       [107.40000153, 108.91999817, 106.20999908, 109.55999756,\n",
              "        113.5       , 114.33000183, 116.33000183, 115.54000092,\n",
              "        111.75      , 109.22000122],\n",
              "       [110.40000153, 110.62999725, 113.55000305, 113.76000214,\n",
              "        118.20999908, 122.76999664, 124.62999725, 122.41999817,\n",
              "        121.13999939, 114.80999756],\n",
              "       [120.97000122, 122.27999878, 134.94999695, 135.38999939,\n",
              "        134.16000366, 139.52000427, 142.57000732, 140.80000305,\n",
              "        139.41000366, 137.83000183],\n",
              "       [142.69000244, 140.63999939, 143.55000305, 143.17999268,\n",
              "        144.77999878, 142.1000061 , 142.30000305, 138.22999573,\n",
              "        133.22000122, 133.61999512],\n",
              "       [133.80000305, 137.27999878, 130.75      , 129.78999329,\n",
              "        128.72999573, 126.76999664, 127.81999969, 127.51000214,\n",
              "        126.11000061, 129.47999573],\n",
              "       [129.82000732, 133.27000427, 136.44999695, 126.81999969,\n",
              "        128.55000305, 126.27999878, 123.52999878, 124.66000366,\n",
              "        122.19000244, 118.54000092],\n",
              "       [117.30999756, 113.77999878, 115.15000153, 114.41000366,\n",
              "        118.01000214, 114.80000305, 113.        , 115.87999725,\n",
              "        121.08999634, 120.94999695],\n",
              "       [120.30000305, 114.55999756, 113.66999817, 112.20999908,\n",
              "        112.90000153, 112.52999878, 106.90000153, 113.79000092,\n",
              "        116.36000061, 115.06999969],\n",
              "       [115.25      , 119.31999969, 119.81999969, 120.59999847,\n",
              "        115.66000366, 110.95999908, 103.41000366, 102.44000244,\n",
              "         96.79000092,  92.12000275],\n",
              "       [ 89.30000305,  90.98000336,  90.52999878,  89.98000336,\n",
              "         86.13999939,  96.62999725, 100.79000092,  98.48999786,\n",
              "         98.94000244,  97.12000275],\n",
              "       [ 94.84999847,  94.13999939,  92.45999908,  93.19999695,\n",
              "         94.12999725,  93.41000366,  93.94999695,  92.41999817,\n",
              "         96.54000092,  95.5       ],\n",
              "       [ 94.12999725,  91.01000214,  88.25      ,  88.45999908,\n",
              "         90.34999847,  89.08999634,  90.55000305,  92.48999786,\n",
              "         91.58000183,  88.44999695],\n",
              "       [ 87.86000061,  84.91999817,  85.19000244,  86.76999664,\n",
              "         83.79000092,  85.25      ,  83.04000092,  81.81999969,\n",
              "         84.18000031,  84.        ],\n",
              "       [ 85.81999969,  85.13999939,  83.12000275,  86.08000183,\n",
              "         87.36000061,  89.87000275,  95.08999634,  95.26999664,\n",
              "         98.12000275,  96.05000305],\n",
              "       [ 95.45999908,  93.68000031,  97.25      ,  97.51999664,\n",
              "         96.31999969,  97.18000031,  99.22000122, 102.23999786,\n",
              "        100.55000305, 103.12999725],\n",
              "       [105.15000153, 112.91000366, 103.38999939, 102.18000031,\n",
              "        102.11000061, 100.05000305,  98.23999786,  97.61000061,\n",
              "         99.54000092,  99.69999695],\n",
              "       [101.16000366,  98.15000153,  97.19999695,  94.58000183,\n",
              "         95.79000092,  95.81999969,  93.5       ,  93.76000214,\n",
              "         94.23000336,  92.16999817],\n",
              "       [ 92.12999725,  94.90000153,  93.75      ,  93.55000305,\n",
              "         93.91999817,  92.25      ,  90.73000336,  92.43000031,\n",
              "         94.87999725,  96.19999695],\n",
              "       [100.04000092,  98.94999695,  97.70999908, 100.61000061,\n",
              "         98.69999695,  98.70999908,  98.12999725,  98.04000092,\n",
              "         97.23999786, 100.25      ],\n",
              "       [102.        , 103.29000092, 102.41000366, 103.94999695,\n",
              "        101.09999847, 102.05999756, 102.16999817,  99.91999817,\n",
              "         97.83000183, 102.40000153],\n",
              "       [102.51000214, 102.73999786, 102.30000305, 104.30000305,\n",
              "        103.80999756, 106.95999908, 106.20999908, 102.56999969,\n",
              "        104.98000336, 109.81999969],\n",
              "       [105.44999695, 102.05000305, 103.62999725, 103.65000153,\n",
              "        104.        , 105.66000366, 105.83000183, 106.62000275,\n",
              "        110.19000244, 112.18000031],\n",
              "       [110.26000214, 111.19999695, 113.40000153, 115.5       ,\n",
              "        118.15000153, 116.25      , 115.01000214, 114.98999786,\n",
              "        116.75      , 115.        ],\n",
              "       [120.11000061, 121.66000366, 120.58000183, 122.76999664,\n",
              "        124.25      , 125.30000305, 126.61000061, 121.23000336,\n",
              "        124.25      , 123.43000031],\n",
              "       [126.56999969, 126.66000366, 126.41999817, 127.11000061,\n",
              "        125.48999786, 125.77999878, 124.83000183, 130.1499939 ,\n",
              "        129.33000183, 127.33000183],\n",
              "       [129.17999268, 129.03999329, 127.90000153, 130.36000061,\n",
              "        130.22000122, 130.38000488, 128.36000061, 129.77999878,\n",
              "        127.12999725, 128.77999878],\n",
              "       [130.80000305, 134.30000305, 134.67999268, 133.55999756,\n",
              "        132.83000183, 135.36000061, 129.96000671, 130.        ,\n",
              "        128.80000305, 129.13000488],\n",
              "       [128.1499939 , 128.25      , 132.21000671, 133.67999268,\n",
              "        131.69000244, 128.21000671, 128.91000366, 139.57000732,\n",
              "        142.22000122, 139.94000244],\n",
              "       [137.8500061 , 138.55999756, 138.41000366, 140.57000732,\n",
              "        137.66999817, 135.07000732, 133.97999573, 133.22000122,\n",
              "        134.67999268, 134.25      ],\n",
              "       [135.52000427, 131.83999634, 133.25999451, 133.13999939,\n",
              "        134.91000366, 135.07000732, 138.00999451, 138.11999512,\n",
              "        137.27000427, 135.36000061],\n",
              "       [137.8500061 , 138.22999573, 143.1000061 , 141.22999573,\n",
              "        144.8500061 , 144.72000122, 140.38999939, 139.97999573,\n",
              "        137.63000488, 135.28999329],\n",
              "       [129.33000183, 129.11999512, 131.27000427, 125.98000336,\n",
              "        125.98000336, 125.98000336, 127.12000275, 129.46000671,\n",
              "        124.72000122, 127.        ],\n",
              "       [125.95999908, 127.95999908, 128.25999451, 129.47999573,\n",
              "        131.83000183, 132.33000183, 129.78999329, 132.55000305,\n",
              "        131.47000122, 128.13000488],\n",
              "       [128.3999939 , 125.16999817, 126.55999756, 128.55999756,\n",
              "        121.38999939, 119.56999969, 127.73999786, 132.71000671,\n",
              "        133.08999634, 137.        ],\n",
              "       [138.07000732, 138.6000061 , 139.74000549, 142.71000671,\n",
              "        142.08000183, 140.6000061 , 143.55999756, 142.58999634,\n",
              "        145.80000305, 143.19999695],\n",
              "       [142.83000183, 145.17999268, 146.13000488, 143.8999939 ,\n",
              "        146.71000671, 146.74000549, 147.72999573, 147.02999878,\n",
              "        146.32000732, 146.08999634],\n",
              "       [147.02999878, 144.83999634, 146.88000488, 144.52000427,\n",
              "        146.88000488, 147.41999817, 145.88999939, 147.47999573,\n",
              "        148.83999634, 147.41999817],\n",
              "       [149.97000122, 154.07000732, 153.78999329, 152.11999512,\n",
              "        153.83999634, 153.41999817, 153.41000366, 153.33999634,\n",
              "        153.38000488, 151.94000244]])"
            ]
          },
          "metadata": {},
          "execution_count": 57
        }
      ],
      "source": [
        "stocks = stocks.reshape(row_count // sequence_length, sequence_length)\n",
        "stocks"
      ]
    },
    {
      "cell_type": "markdown",
      "metadata": {
        "id": "qbBqruKoXHf7"
      },
      "source": [
        "## Splitting Data into Training and Testing Sets"
      ]
    },
    {
      "cell_type": "code",
      "execution_count": 58,
      "metadata": {
        "id": "ni9oW4i5XLM3"
      },
      "outputs": [],
      "source": [
        "# Extracting features (X) and target variable (y) from the stocks data\n",
        "X = stocks[:, :-1]\n",
        "y = stocks[:, -1]"
      ]
    },
    {
      "cell_type": "code",
      "execution_count": 59,
      "metadata": {
        "id": "G7NQ9t8FXYzf"
      },
      "outputs": [],
      "source": [
        "# Splitting the data into training and testing sets with a test size of 0.1\n",
        "X_train, X_test, y_train, y_test = train_test_split(X, y, test_size=0.1)"
      ]
    },
    {
      "cell_type": "code",
      "execution_count": 60,
      "metadata": {
        "colab": {
          "base_uri": "https://localhost:8080/"
        },
        "id": "q7Iik1POX9sn",
        "outputId": "13188953-54c8-46fa-fa15-2f07b2f5c988"
      },
      "outputs": [
        {
          "output_type": "stream",
          "name": "stdout",
          "text": [
            "(45, 9, 1)\n",
            "(5, 9, 1)\n"
          ]
        }
      ],
      "source": [
        "# Reshaping the training and testing data to fit the input requirements of LSTM models\n",
        "X_train = np.reshape(X_train, (X_train.shape[0], X_train.shape[1], 1))\n",
        "X_test = np.reshape(X_test, (X_test.shape[0], X_test.shape[1], 1))\n",
        "\n",
        "# Printing the shapes of the reshaped training and testing data\n",
        "print(X_train.shape)\n",
        "print(X_test.shape)"
      ]
    },
    {
      "cell_type": "markdown",
      "metadata": {
        "id": "l_jzHS21Lz2h"
      },
      "source": [
        "The code reshapes the X_train and X_test arrays to (45, 9, 1) and (5, 9, 1) respectively, to fit the input requirements of LSTM models."
      ]
    },
    {
      "cell_type": "markdown",
      "metadata": {
        "id": "G1bnqikOYe_i"
      },
      "source": [
        "## Model Fitting"
      ]
    },
    {
      "cell_type": "markdown",
      "metadata": {
        "id": "i-V80WvgYhbz"
      },
      "source": [
        "## Model 1: RNN"
      ]
    },
    {
      "cell_type": "code",
      "execution_count": 61,
      "metadata": {
        "colab": {
          "base_uri": "https://localhost:8080/"
        },
        "id": "dODQXJgFYxsY",
        "outputId": "06466b9a-38e4-4423-c44b-1b2132746ac0"
      },
      "outputs": [
        {
          "output_type": "stream",
          "name": "stdout",
          "text": [
            "Model: \"sequential_4\"\n",
            "_________________________________________________________________\n",
            " Layer (type)                Output Shape              Param #   \n",
            "=================================================================\n",
            " lstm_2 (LSTM)               (None, 64)                16896     \n",
            "                                                                 \n",
            " dense_5 (Dense)             (None, 56)                3640      \n",
            "                                                                 \n",
            " dense_6 (Dense)             (None, 1)                 57        \n",
            "                                                                 \n",
            "=================================================================\n",
            "Total params: 20593 (80.44 KB)\n",
            "Trainable params: 20593 (80.44 KB)\n",
            "Non-trainable params: 0 (0.00 Byte)\n",
            "_________________________________________________________________\n"
          ]
        }
      ],
      "source": [
        "n_steps = 9  # Placeholder value, replace with actual number of time steps\n",
        "n_inputs = 1   # Placeholder value, replace with actual number of input features\n",
        "\n",
        "rnn_model = Sequential([\n",
        "    LSTM(64, input_shape=[n_steps, n_inputs]),\n",
        "    Dense(56, activation='sigmoid'),\n",
        "    Dense(1)\n",
        "])\n",
        "rnn_model.build(input_shape=(None, n_steps, n_inputs))\n",
        "rnn_model.summary()"
      ]
    },
    {
      "cell_type": "markdown",
      "metadata": {
        "id": "DEUbqkKHLz2i"
      },
      "source": [
        "The model summary shows the architecture of a neural network model with three layers:\n",
        "\n",
        "###### LSTM layer with 64 units and 16,896 parameters\n",
        "###### Dense layer with 56 units and 3,640 parameters\n",
        "###### Dense layer with 1 unit and 57 parameters\n",
        "###### The model has a total of 20,593 trainable parameters."
      ]
    },
    {
      "cell_type": "code",
      "execution_count": 62,
      "metadata": {
        "id": "qxZ931rHZj9f"
      },
      "outputs": [],
      "source": [
        "# Compile the RNN model\n",
        "rnn_model.compile(\n",
        "    loss=\"mean_squared_error\",\n",
        "    optimizer=tf.keras.optimizers.Nadam(learning_rate=0.001),\n",
        "    metrics=[tf.keras.metrics.RootMeanSquaredError()]\n",
        ")"
      ]
    },
    {
      "cell_type": "code",
      "execution_count": 63,
      "metadata": {
        "colab": {
          "base_uri": "https://localhost:8080/"
        },
        "id": "nfUPSWB_bnet",
        "outputId": "9641c413-4b50-4739-b158-a1575732cb6a"
      },
      "outputs": [
        {
          "output_type": "stream",
          "name": "stdout",
          "text": [
            "Epoch 1/100\n",
            "2/2 [==============================] - 4s 595ms/step - loss: 15828.7588 - root_mean_squared_error: 125.8124 - val_loss: 14682.1973 - val_root_mean_squared_error: 121.1701\n",
            "Epoch 2/100\n",
            "2/2 [==============================] - 0s 48ms/step - loss: 15796.2773 - root_mean_squared_error: 125.6832 - val_loss: 14652.3438 - val_root_mean_squared_error: 121.0469\n",
            "Epoch 3/100\n",
            "2/2 [==============================] - 0s 39ms/step - loss: 15765.3291 - root_mean_squared_error: 125.5601 - val_loss: 14621.1221 - val_root_mean_squared_error: 120.9178\n",
            "Epoch 4/100\n",
            "2/2 [==============================] - 0s 37ms/step - loss: 15732.6416 - root_mean_squared_error: 125.4298 - val_loss: 14588.0527 - val_root_mean_squared_error: 120.7810\n",
            "Epoch 5/100\n",
            "2/2 [==============================] - 0s 36ms/step - loss: 15698.8760 - root_mean_squared_error: 125.2952 - val_loss: 14554.3262 - val_root_mean_squared_error: 120.6413\n",
            "Epoch 6/100\n",
            "2/2 [==============================] - 0s 35ms/step - loss: 15664.0420 - root_mean_squared_error: 125.1561 - val_loss: 14519.3809 - val_root_mean_squared_error: 120.4964\n",
            "Epoch 7/100\n",
            "2/2 [==============================] - 0s 36ms/step - loss: 15627.5996 - root_mean_squared_error: 125.0104 - val_loss: 14482.9375 - val_root_mean_squared_error: 120.3451\n",
            "Epoch 8/100\n",
            "2/2 [==============================] - 0s 35ms/step - loss: 15589.9121 - root_mean_squared_error: 124.8596 - val_loss: 14445.2715 - val_root_mean_squared_error: 120.1885\n",
            "Epoch 9/100\n",
            "2/2 [==============================] - 0s 36ms/step - loss: 15551.4219 - root_mean_squared_error: 124.7053 - val_loss: 14406.4951 - val_root_mean_squared_error: 120.0271\n",
            "Epoch 10/100\n",
            "2/2 [==============================] - 0s 37ms/step - loss: 15511.1279 - root_mean_squared_error: 124.5437 - val_loss: 14365.7188 - val_root_mean_squared_error: 119.8571\n",
            "Epoch 11/100\n",
            "2/2 [==============================] - 0s 37ms/step - loss: 15468.4580 - root_mean_squared_error: 124.3723 - val_loss: 14322.4326 - val_root_mean_squared_error: 119.6764\n",
            "Epoch 12/100\n",
            "2/2 [==============================] - 0s 38ms/step - loss: 15423.6406 - root_mean_squared_error: 124.1919 - val_loss: 14276.5996 - val_root_mean_squared_error: 119.4847\n",
            "Epoch 13/100\n",
            "2/2 [==============================] - 0s 41ms/step - loss: 15376.4277 - root_mean_squared_error: 124.0017 - val_loss: 14229.6123 - val_root_mean_squared_error: 119.2879\n",
            "Epoch 14/100\n",
            "2/2 [==============================] - 0s 36ms/step - loss: 15327.0615 - root_mean_squared_error: 123.8025 - val_loss: 14180.1201 - val_root_mean_squared_error: 119.0803\n",
            "Epoch 15/100\n",
            "2/2 [==============================] - 0s 39ms/step - loss: 15275.6445 - root_mean_squared_error: 123.5947 - val_loss: 14128.1797 - val_root_mean_squared_error: 118.8620\n",
            "Epoch 16/100\n",
            "2/2 [==============================] - 0s 40ms/step - loss: 15221.6182 - root_mean_squared_error: 123.3759 - val_loss: 14073.1250 - val_root_mean_squared_error: 118.6302\n",
            "Epoch 17/100\n",
            "2/2 [==============================] - 0s 36ms/step - loss: 15163.9746 - root_mean_squared_error: 123.1421 - val_loss: 14013.0342 - val_root_mean_squared_error: 118.3767\n",
            "Epoch 18/100\n",
            "2/2 [==============================] - 0s 60ms/step - loss: 15101.6680 - root_mean_squared_error: 122.8888 - val_loss: 13949.3652 - val_root_mean_squared_error: 118.1074\n",
            "Epoch 19/100\n",
            "2/2 [==============================] - 0s 38ms/step - loss: 15037.3691 - root_mean_squared_error: 122.6270 - val_loss: 13889.3457 - val_root_mean_squared_error: 117.8531\n",
            "Epoch 20/100\n",
            "2/2 [==============================] - 0s 58ms/step - loss: 14975.8984 - root_mean_squared_error: 122.3761 - val_loss: 13831.1719 - val_root_mean_squared_error: 117.6060\n",
            "Epoch 21/100\n",
            "2/2 [==============================] - 0s 39ms/step - loss: 14915.2539 - root_mean_squared_error: 122.1280 - val_loss: 13771.2031 - val_root_mean_squared_error: 117.3508\n",
            "Epoch 22/100\n",
            "2/2 [==============================] - 0s 56ms/step - loss: 14853.2471 - root_mean_squared_error: 121.8739 - val_loss: 13708.2002 - val_root_mean_squared_error: 117.0820\n",
            "Epoch 23/100\n",
            "2/2 [==============================] - 0s 37ms/step - loss: 14787.5449 - root_mean_squared_error: 121.6040 - val_loss: 13641.3262 - val_root_mean_squared_error: 116.7961\n",
            "Epoch 24/100\n",
            "2/2 [==============================] - 0s 37ms/step - loss: 14719.3574 - root_mean_squared_error: 121.3234 - val_loss: 13572.0830 - val_root_mean_squared_error: 116.4993\n",
            "Epoch 25/100\n",
            "2/2 [==============================] - 0s 54ms/step - loss: 14648.7725 - root_mean_squared_error: 121.0321 - val_loss: 13503.3203 - val_root_mean_squared_error: 116.2038\n",
            "Epoch 26/100\n",
            "2/2 [==============================] - 0s 54ms/step - loss: 14579.3252 - root_mean_squared_error: 120.7449 - val_loss: 13439.0566 - val_root_mean_squared_error: 115.9269\n",
            "Epoch 27/100\n",
            "2/2 [==============================] - 0s 38ms/step - loss: 14513.0332 - root_mean_squared_error: 120.4701 - val_loss: 13381.6533 - val_root_mean_squared_error: 115.6791\n",
            "Epoch 28/100\n",
            "2/2 [==============================] - 0s 37ms/step - loss: 14454.4912 - root_mean_squared_error: 120.2268 - val_loss: 13331.5342 - val_root_mean_squared_error: 115.4623\n",
            "Epoch 29/100\n",
            "2/2 [==============================] - 0s 37ms/step - loss: 14403.3691 - root_mean_squared_error: 120.0140 - val_loss: 13286.8877 - val_root_mean_squared_error: 115.2688\n",
            "Epoch 30/100\n",
            "2/2 [==============================] - 0s 56ms/step - loss: 14358.3457 - root_mean_squared_error: 119.8263 - val_loss: 13246.9316 - val_root_mean_squared_error: 115.0953\n",
            "Epoch 31/100\n",
            "2/2 [==============================] - 0s 38ms/step - loss: 14317.5977 - root_mean_squared_error: 119.6562 - val_loss: 13211.2871 - val_root_mean_squared_error: 114.9404\n",
            "Epoch 32/100\n",
            "2/2 [==============================] - 0s 60ms/step - loss: 14281.3691 - root_mean_squared_error: 119.5047 - val_loss: 13178.7529 - val_root_mean_squared_error: 114.7988\n",
            "Epoch 33/100\n",
            "2/2 [==============================] - 0s 38ms/step - loss: 14247.9170 - root_mean_squared_error: 119.3646 - val_loss: 13148.3125 - val_root_mean_squared_error: 114.6661\n",
            "Epoch 34/100\n",
            "2/2 [==============================] - 0s 60ms/step - loss: 14216.4551 - root_mean_squared_error: 119.2328 - val_loss: 13119.5723 - val_root_mean_squared_error: 114.5407\n",
            "Epoch 35/100\n",
            "2/2 [==============================] - 0s 43ms/step - loss: 14187.0264 - root_mean_squared_error: 119.1093 - val_loss: 13092.2773 - val_root_mean_squared_error: 114.4215\n",
            "Epoch 36/100\n",
            "2/2 [==============================] - 0s 62ms/step - loss: 14158.7334 - root_mean_squared_error: 118.9905 - val_loss: 13065.9951 - val_root_mean_squared_error: 114.3066\n",
            "Epoch 37/100\n",
            "2/2 [==============================] - 0s 68ms/step - loss: 14131.6982 - root_mean_squared_error: 118.8768 - val_loss: 13040.4141 - val_root_mean_squared_error: 114.1946\n",
            "Epoch 38/100\n",
            "2/2 [==============================] - 0s 82ms/step - loss: 14105.4121 - root_mean_squared_error: 118.7662 - val_loss: 13015.5703 - val_root_mean_squared_error: 114.0858\n",
            "Epoch 39/100\n",
            "2/2 [==============================] - 0s 62ms/step - loss: 14080.2832 - root_mean_squared_error: 118.6604 - val_loss: 12991.8301 - val_root_mean_squared_error: 113.9817\n",
            "Epoch 40/100\n",
            "2/2 [==============================] - 0s 78ms/step - loss: 14055.5859 - root_mean_squared_error: 118.5563 - val_loss: 12968.9629 - val_root_mean_squared_error: 113.8814\n",
            "Epoch 41/100\n",
            "2/2 [==============================] - 0s 69ms/step - loss: 14032.3477 - root_mean_squared_error: 118.4582 - val_loss: 12946.8877 - val_root_mean_squared_error: 113.7844\n",
            "Epoch 42/100\n",
            "2/2 [==============================] - 0s 81ms/step - loss: 14009.4053 - root_mean_squared_error: 118.3613 - val_loss: 12925.3984 - val_root_mean_squared_error: 113.6899\n",
            "Epoch 43/100\n",
            "2/2 [==============================] - 0s 74ms/step - loss: 13987.2832 - root_mean_squared_error: 118.2678 - val_loss: 12904.3447 - val_root_mean_squared_error: 113.5973\n",
            "Epoch 44/100\n",
            "2/2 [==============================] - 0s 58ms/step - loss: 13965.7490 - root_mean_squared_error: 118.1768 - val_loss: 12883.6191 - val_root_mean_squared_error: 113.5060\n",
            "Epoch 45/100\n",
            "2/2 [==============================] - 0s 87ms/step - loss: 13944.2822 - root_mean_squared_error: 118.0859 - val_loss: 12863.0566 - val_root_mean_squared_error: 113.4154\n",
            "Epoch 46/100\n",
            "2/2 [==============================] - 0s 73ms/step - loss: 13923.1348 - root_mean_squared_error: 117.9963 - val_loss: 12842.5869 - val_root_mean_squared_error: 113.3251\n",
            "Epoch 47/100\n",
            "2/2 [==============================] - 0s 81ms/step - loss: 13902.0361 - root_mean_squared_error: 117.9069 - val_loss: 12822.3184 - val_root_mean_squared_error: 113.2357\n",
            "Epoch 48/100\n",
            "2/2 [==============================] - 0s 70ms/step - loss: 13881.3838 - root_mean_squared_error: 117.8193 - val_loss: 12802.4629 - val_root_mean_squared_error: 113.1480\n",
            "Epoch 49/100\n",
            "2/2 [==============================] - 0s 76ms/step - loss: 13860.9600 - root_mean_squared_error: 117.7326 - val_loss: 12783.0361 - val_root_mean_squared_error: 113.0621\n",
            "Epoch 50/100\n",
            "2/2 [==============================] - 0s 87ms/step - loss: 13840.6260 - root_mean_squared_error: 117.6462 - val_loss: 12763.8672 - val_root_mean_squared_error: 112.9773\n",
            "Epoch 51/100\n",
            "2/2 [==============================] - 0s 60ms/step - loss: 13820.8164 - root_mean_squared_error: 117.5620 - val_loss: 12744.8369 - val_root_mean_squared_error: 112.8930\n",
            "Epoch 52/100\n",
            "2/2 [==============================] - 0s 59ms/step - loss: 13801.4736 - root_mean_squared_error: 117.4797 - val_loss: 12725.9658 - val_root_mean_squared_error: 112.8094\n",
            "Epoch 53/100\n",
            "2/2 [==============================] - 0s 67ms/step - loss: 13782.0957 - root_mean_squared_error: 117.3972 - val_loss: 12707.2969 - val_root_mean_squared_error: 112.7266\n",
            "Epoch 54/100\n",
            "2/2 [==============================] - 0s 77ms/step - loss: 13762.9893 - root_mean_squared_error: 117.3158 - val_loss: 12688.9463 - val_root_mean_squared_error: 112.6452\n",
            "Epoch 55/100\n",
            "2/2 [==============================] - 0s 84ms/step - loss: 13743.8945 - root_mean_squared_error: 117.2344 - val_loss: 12670.7578 - val_root_mean_squared_error: 112.5645\n",
            "Epoch 56/100\n",
            "2/2 [==============================] - 0s 83ms/step - loss: 13724.9531 - root_mean_squared_error: 117.1535 - val_loss: 12652.5537 - val_root_mean_squared_error: 112.4836\n",
            "Epoch 57/100\n",
            "2/2 [==============================] - 0s 67ms/step - loss: 13706.3594 - root_mean_squared_error: 117.0742 - val_loss: 12634.3223 - val_root_mean_squared_error: 112.4025\n",
            "Epoch 58/100\n",
            "2/2 [==============================] - 0s 77ms/step - loss: 13687.6143 - root_mean_squared_error: 116.9941 - val_loss: 12616.0605 - val_root_mean_squared_error: 112.3212\n",
            "Epoch 59/100\n",
            "2/2 [==============================] - 0s 78ms/step - loss: 13668.5781 - root_mean_squared_error: 116.9127 - val_loss: 12597.7422 - val_root_mean_squared_error: 112.2397\n",
            "Epoch 60/100\n",
            "2/2 [==============================] - 0s 78ms/step - loss: 13649.6865 - root_mean_squared_error: 116.8319 - val_loss: 12579.4346 - val_root_mean_squared_error: 112.1581\n",
            "Epoch 61/100\n",
            "2/2 [==============================] - 0s 82ms/step - loss: 13630.8691 - root_mean_squared_error: 116.7513 - val_loss: 12561.2129 - val_root_mean_squared_error: 112.0768\n",
            "Epoch 62/100\n",
            "2/2 [==============================] - 0s 74ms/step - loss: 13612.3096 - root_mean_squared_error: 116.6718 - val_loss: 12543.1348 - val_root_mean_squared_error: 111.9961\n",
            "Epoch 63/100\n",
            "2/2 [==============================] - 0s 79ms/step - loss: 13593.6885 - root_mean_squared_error: 116.5920 - val_loss: 12525.1797 - val_root_mean_squared_error: 111.9159\n",
            "Epoch 64/100\n",
            "2/2 [==============================] - 0s 90ms/step - loss: 13574.9971 - root_mean_squared_error: 116.5118 - val_loss: 12507.2666 - val_root_mean_squared_error: 111.8359\n",
            "Epoch 65/100\n",
            "2/2 [==============================] - 0s 74ms/step - loss: 13556.4971 - root_mean_squared_error: 116.4324 - val_loss: 12489.3730 - val_root_mean_squared_error: 111.7559\n",
            "Epoch 66/100\n",
            "2/2 [==============================] - 0s 41ms/step - loss: 13538.0361 - root_mean_squared_error: 116.3531 - val_loss: 12471.5107 - val_root_mean_squared_error: 111.6759\n",
            "Epoch 67/100\n",
            "2/2 [==============================] - 0s 37ms/step - loss: 13519.6221 - root_mean_squared_error: 116.2739 - val_loss: 12453.6934 - val_root_mean_squared_error: 111.5961\n",
            "Epoch 68/100\n",
            "2/2 [==============================] - 0s 56ms/step - loss: 13501.2705 - root_mean_squared_error: 116.1950 - val_loss: 12435.9355 - val_root_mean_squared_error: 111.5165\n",
            "Epoch 69/100\n",
            "2/2 [==============================] - 0s 36ms/step - loss: 13482.9600 - root_mean_squared_error: 116.1161 - val_loss: 12418.2373 - val_root_mean_squared_error: 111.4371\n",
            "Epoch 70/100\n",
            "2/2 [==============================] - 0s 57ms/step - loss: 13464.5615 - root_mean_squared_error: 116.0369 - val_loss: 12400.5381 - val_root_mean_squared_error: 111.3577\n",
            "Epoch 71/100\n",
            "2/2 [==============================] - 0s 37ms/step - loss: 13446.1709 - root_mean_squared_error: 115.9576 - val_loss: 12382.7861 - val_root_mean_squared_error: 111.2780\n",
            "Epoch 72/100\n",
            "2/2 [==============================] - 0s 36ms/step - loss: 13428.0332 - root_mean_squared_error: 115.8794 - val_loss: 12365.0791 - val_root_mean_squared_error: 111.1984\n",
            "Epoch 73/100\n",
            "2/2 [==============================] - 0s 40ms/step - loss: 13409.8115 - root_mean_squared_error: 115.8007 - val_loss: 12347.4619 - val_root_mean_squared_error: 111.1191\n",
            "Epoch 74/100\n",
            "2/2 [==============================] - 0s 37ms/step - loss: 13391.6377 - root_mean_squared_error: 115.7222 - val_loss: 12329.9727 - val_root_mean_squared_error: 111.0404\n",
            "Epoch 75/100\n",
            "2/2 [==============================] - 0s 38ms/step - loss: 13373.4463 - root_mean_squared_error: 115.6436 - val_loss: 12312.5840 - val_root_mean_squared_error: 110.9621\n",
            "Epoch 76/100\n",
            "2/2 [==============================] - 0s 55ms/step - loss: 13355.7002 - root_mean_squared_error: 115.5669 - val_loss: 12295.3184 - val_root_mean_squared_error: 110.8843\n",
            "Epoch 77/100\n",
            "2/2 [==============================] - 0s 38ms/step - loss: 13337.9463 - root_mean_squared_error: 115.4900 - val_loss: 12278.1816 - val_root_mean_squared_error: 110.8070\n",
            "Epoch 78/100\n",
            "2/2 [==============================] - 0s 39ms/step - loss: 13320.0801 - root_mean_squared_error: 115.4127 - val_loss: 12261.1045 - val_root_mean_squared_error: 110.7299\n",
            "Epoch 79/100\n",
            "2/2 [==============================] - 0s 37ms/step - loss: 13302.4570 - root_mean_squared_error: 115.3363 - val_loss: 12244.0684 - val_root_mean_squared_error: 110.6529\n",
            "Epoch 80/100\n",
            "2/2 [==============================] - 0s 37ms/step - loss: 13284.7363 - root_mean_squared_error: 115.2594 - val_loss: 12227.0332 - val_root_mean_squared_error: 110.5759\n",
            "Epoch 81/100\n",
            "2/2 [==============================] - 0s 41ms/step - loss: 13267.3643 - root_mean_squared_error: 115.1840 - val_loss: 12210.0566 - val_root_mean_squared_error: 110.4991\n",
            "Epoch 82/100\n",
            "2/2 [==============================] - 0s 38ms/step - loss: 13249.8643 - root_mean_squared_error: 115.1081 - val_loss: 12193.1562 - val_root_mean_squared_error: 110.4226\n",
            "Epoch 83/100\n",
            "2/2 [==============================] - 0s 43ms/step - loss: 13232.2441 - root_mean_squared_error: 115.0315 - val_loss: 12176.2666 - val_root_mean_squared_error: 110.3461\n",
            "Epoch 84/100\n",
            "2/2 [==============================] - 0s 53ms/step - loss: 13214.9375 - root_mean_squared_error: 114.9562 - val_loss: 12159.4033 - val_root_mean_squared_error: 110.2697\n",
            "Epoch 85/100\n",
            "2/2 [==============================] - 0s 63ms/step - loss: 13197.4531 - root_mean_squared_error: 114.8802 - val_loss: 12142.5742 - val_root_mean_squared_error: 110.1934\n",
            "Epoch 86/100\n",
            "2/2 [==============================] - 0s 51ms/step - loss: 13180.2539 - root_mean_squared_error: 114.8053 - val_loss: 12125.8652 - val_root_mean_squared_error: 110.1175\n",
            "Epoch 87/100\n",
            "2/2 [==============================] - 0s 55ms/step - loss: 13163.0195 - root_mean_squared_error: 114.7302 - val_loss: 12109.2598 - val_root_mean_squared_error: 110.0421\n",
            "Epoch 88/100\n",
            "2/2 [==============================] - 0s 48ms/step - loss: 13145.9531 - root_mean_squared_error: 114.6558 - val_loss: 12092.7529 - val_root_mean_squared_error: 109.9671\n",
            "Epoch 89/100\n",
            "2/2 [==============================] - 0s 48ms/step - loss: 13128.7246 - root_mean_squared_error: 114.5807 - val_loss: 12076.2871 - val_root_mean_squared_error: 109.8922\n",
            "Epoch 90/100\n",
            "2/2 [==============================] - 0s 64ms/step - loss: 13111.8252 - root_mean_squared_error: 114.5069 - val_loss: 12059.8691 - val_root_mean_squared_error: 109.8174\n",
            "Epoch 91/100\n",
            "2/2 [==============================] - 0s 61ms/step - loss: 13094.9209 - root_mean_squared_error: 114.4330 - val_loss: 12043.5205 - val_root_mean_squared_error: 109.7430\n",
            "Epoch 92/100\n",
            "2/2 [==============================] - 0s 49ms/step - loss: 13078.2041 - root_mean_squared_error: 114.3600 - val_loss: 12027.2803 - val_root_mean_squared_error: 109.6690\n",
            "Epoch 93/100\n",
            "2/2 [==============================] - 0s 47ms/step - loss: 13061.1514 - root_mean_squared_error: 114.2854 - val_loss: 12011.0654 - val_root_mean_squared_error: 109.5950\n",
            "Epoch 94/100\n",
            "2/2 [==============================] - 0s 48ms/step - loss: 13044.4404 - root_mean_squared_error: 114.2123 - val_loss: 11994.8574 - val_root_mean_squared_error: 109.5210\n",
            "Epoch 95/100\n",
            "2/2 [==============================] - 0s 48ms/step - loss: 13027.7568 - root_mean_squared_error: 114.1392 - val_loss: 11978.6826 - val_root_mean_squared_error: 109.4472\n",
            "Epoch 96/100\n",
            "2/2 [==============================] - 0s 51ms/step - loss: 13011.0156 - root_mean_squared_error: 114.0658 - val_loss: 11962.5322 - val_root_mean_squared_error: 109.3734\n",
            "Epoch 97/100\n",
            "2/2 [==============================] - 0s 59ms/step - loss: 12994.3223 - root_mean_squared_error: 113.9926 - val_loss: 11946.4004 - val_root_mean_squared_error: 109.2996\n",
            "Epoch 98/100\n",
            "2/2 [==============================] - 0s 45ms/step - loss: 12977.7637 - root_mean_squared_error: 113.9200 - val_loss: 11930.3154 - val_root_mean_squared_error: 109.2260\n",
            "Epoch 99/100\n",
            "2/2 [==============================] - 0s 44ms/step - loss: 12961.1455 - root_mean_squared_error: 113.8470 - val_loss: 11914.2812 - val_root_mean_squared_error: 109.1526\n",
            "Epoch 100/100\n",
            "2/2 [==============================] - 0s 44ms/step - loss: 12944.5303 - root_mean_squared_error: 113.7740 - val_loss: 11898.2754 - val_root_mean_squared_error: 109.0792\n"
          ]
        }
      ],
      "source": [
        "# Defining early stopping criteria\n",
        "early_stop = EarlyStopping(\n",
        "    monitor='val_root_mean_squared_error',\n",
        "    min_delta=0.0,\n",
        "    patience=5,\n",
        "    verbose=1,\n",
        "    mode='min'\n",
        ")\n",
        "\n",
        "# Training the RNN model with early stopping\n",
        "rnn_history = rnn_model.fit(\n",
        "    X_train,                                # Training data\n",
        "    y_train,                                # Training labels\n",
        "    epochs=100,                             # Number of training epochs\n",
        "    validation_data=(X_test, y_test),       # Validation data\n",
        "    callbacks=[early_stop]                  # List of callbacks (early stopping in this case)\n",
        ")\n",
        "\n",
        "# Recording the end time of training\n",
        "end_time = time.time()"
      ]
    },
    {
      "cell_type": "markdown",
      "metadata": {
        "id": "YjX981zTe1Gv"
      },
      "source": [
        "## RNN Model Evaluation Graph"
      ]
    },
    {
      "cell_type": "code",
      "execution_count": 66,
      "metadata": {
        "colab": {
          "base_uri": "https://localhost:8080/",
          "height": 521
        },
        "id": "QD458ZMxetyf",
        "outputId": "0fcbbd16-9204-44f4-8ffa-67405f235363"
      },
      "outputs": [
        {
          "output_type": "display_data",
          "data": {
            "text/plain": [
              "<Figure size 1500x700 with 2 Axes>"
            ],
            "image/png": "[encoded data removed]"
          },
          "metadata": {}
        }
      ],
      "source": [
        "# Plotting RNN model evaluation metrics\n",
        "fig, (ax1, ax2) = plt.subplots(1, 2, figsize=(15, 7))\n",
        "fig.suptitle('RNN Model Evaluation Graph')\n",
        "\n",
        "# Plotting loss\n",
        "ax1.set_title('Loss')\n",
        "ax1.plot(rnn_history.history['loss'], label='Train Loss')\n",
        "ax1.plot(rnn_history.history['val_loss'], label='Test Loss')\n",
        "ax1.set_xlabel('Epoch')\n",
        "ax1.set_ylabel('Loss')\n",
        "ax1.legend()\n",
        "\n",
        "# Plotting RMSE\n",
        "ax2.set_title('Root Mean Squared Error')\n",
        "ax2.plot(rnn_history.history['root_mean_squared_error'], label='Train RMSE')\n",
        "ax2.plot(rnn_history.history['val_root_mean_squared_error'], label='Test RMSE')\n",
        "ax2.set_xlabel('Epoch')\n",
        "ax2.set_ylabel('RMSE')\n",
        "ax2.legend()\n",
        "\n",
        "plt.show()"
      ]
    },
    {
      "cell_type": "code",
      "execution_count": 67,
      "metadata": {
        "colab": {
          "base_uri": "https://localhost:8080/"
        },
        "id": "RluRW8I0fVYR",
        "outputId": "d745b32d-763f-40b6-8e17-d528995e3460"
      },
      "outputs": [
        {
          "output_type": "stream",
          "name": "stdout",
          "text": [
            "1/1 [==============================] - 0s 80ms/step\n"
          ]
        },
        {
          "output_type": "execute_result",
          "data": {
            "text/plain": [
              "109.07921679289112"
            ]
          },
          "metadata": {},
          "execution_count": 67
        }
      ],
      "source": [
        "# RMSE Calculation\n",
        "y_pred = rnn_model.predict(X_test)\n",
        "\n",
        "mean_squared_error(y_test, y_pred)**0.5"
      ]
    },
    {
      "cell_type": "markdown",
      "metadata": {
        "id": "nDXdD0pGLz2k"
      },
      "source": [
        "The code calculates the root mean squared error (RMSE) between the predicted values (y_pred) and the actual test values (y_test) for the RNN model. The RMSE is a common metric for evaluating the performance of regression models, with a lower value indicating better performance. In this case, the RMSE is calculated as 107.01891493625632."
      ]
    },
    {
      "cell_type": "markdown",
      "metadata": {
        "id": "DG5u5rskf54p"
      },
      "source": [
        "### Testing on the last 10 of data"
      ]
    },
    {
      "cell_type": "code",
      "execution_count": 68,
      "metadata": {
        "id": "6dZQIC4-fhjV"
      },
      "outputs": [],
      "source": [
        " # Testing on the last 10 of data.\n",
        "\n",
        "prior_days = np.array(\n",
        "    [152.44999695, 154.02000427, 155.55999756, 154.08999634,\n",
        "        152.96000671, 151.24000549, 151.61000061, 153.05999756,\n",
        "        153.91999817\n",
        "    ]\n",
        ")\n",
        "\n",
        "# reshape into the three dimensions for input into model\n",
        "prior_days = prior_days.reshape(1, 9, 1)"
      ]
    },
    {
      "cell_type": "code",
      "execution_count": 69,
      "metadata": {
        "colab": {
          "base_uri": "https://localhost:8080/"
        },
        "id": "8FlPziwpiFzr",
        "outputId": "35419fa7-f000-4551-c4d1-deba2997f0a5"
      },
      "outputs": [
        {
          "output_type": "stream",
          "name": "stdout",
          "text": [
            "Last 10 data points of Amazon stock:\n",
            "                  Open        High         Low       Close   Adj Close  \\\n",
            "Date                                                                     \n",
            "2023-12-15  148.380005  150.570007  147.880005  149.970001  149.970001   \n",
            "2023-12-18  150.559998  154.850006  150.050003  154.070007  154.070007   \n",
            "2023-12-19  154.399994  155.119995  152.690002  153.789993  153.789993   \n",
            "2023-12-20  152.899994  155.630005  151.559998  152.119995  152.119995   \n",
            "2023-12-21  153.300003  153.970001  152.100006  153.839996  153.839996   \n",
            "2023-12-22  153.770004  154.350006  152.710007  153.419998  153.419998   \n",
            "2023-12-26  153.559998  153.979996  153.029999  153.410004  153.410004   \n",
            "2023-12-27  153.559998  154.779999  153.119995  153.339996  153.339996   \n",
            "2023-12-28  153.720001  154.080002  152.949997  153.380005  153.380005   \n",
            "2023-12-29  153.100006  153.889999  151.029999  151.940002  151.940002   \n",
            "\n",
            "               Volume  \n",
            "Date                   \n",
            "2023-12-15  110039100  \n",
            "2023-12-18   62512800  \n",
            "2023-12-19   43171300  \n",
            "2023-12-20   50322100  \n",
            "2023-12-21   36305700  \n",
            "2023-12-22   29480100  \n",
            "2023-12-26   25067200  \n",
            "2023-12-27   31434700  \n",
            "2023-12-28   27057000  \n",
            "2023-12-29   39789000  \n"
          ]
        }
      ],
      "source": [
        "# Extracting the last 10 data points for testing\n",
        "amzn_last_10 = amzn[-10:]\n",
        "\n",
        "# Displaying the last 10 data points\n",
        "print(\"Last 10 data points of Amazon stock:\")\n",
        "print(amzn_last_10)\n"
      ]
    },
    {
      "cell_type": "code",
      "execution_count": 70,
      "metadata": {
        "id": "SyBbkEZEkctt"
      },
      "outputs": [],
      "source": [
        "# Testing on the last 10 of data.\n",
        "\n",
        "prior_days = np.array(\n",
        "    [150.559998,  154.399994,  152.899994 ,  153.300003,\n",
        "        153.770004, 153.559998, 153.559998, 153.720001,\n",
        "        153.100006\n",
        "    ]\n",
        ")\n",
        "\n",
        "# reshape into the three dimensions for input into model\n",
        "prior_days = prior_days.reshape(1, 9, 1)"
      ]
    },
    {
      "cell_type": "code",
      "execution_count": 71,
      "metadata": {
        "colab": {
          "base_uri": "https://localhost:8080/"
        },
        "id": "VCeJpWdVl03x",
        "outputId": "e17eb30f-a558-4720-81e0-cd4e13b97ba9"
      },
      "outputs": [
        {
          "output_type": "stream",
          "name": "stdout",
          "text": [
            "1/1 [==============================] - 0s 27ms/step\n",
            "Predictions for the next day's stock price:\n",
            "[[12.321096]]\n"
          ]
        }
      ],
      "source": [
        "import numpy as np\n",
        "\n",
        "# Reshape the prior_days array for model input\n",
        "prior_days_reshaped = prior_days.reshape(1, 9, 1)\n",
        "\n",
        "# Test the model on the last 10 days of prior data\n",
        "predictions = rnn_model.predict(prior_days_reshaped)\n",
        "\n",
        "# Print the predictions\n",
        "print(\"Predictions for the next day's stock price:\")\n",
        "print(predictions)\n"
      ]
    },
    {
      "cell_type": "code",
      "execution_count": 72,
      "metadata": {
        "colab": {
          "base_uri": "https://localhost:8080/"
        },
        "id": "AGUiQzoNk2Qn",
        "outputId": "017441c7-6793-4020-95bd-4ce649a2c0f6"
      },
      "outputs": [
        {
          "output_type": "stream",
          "name": "stdout",
          "text": [
            "1/1 [==============================] - 0s 26ms/step\n"
          ]
        },
        {
          "output_type": "execute_result",
          "data": {
            "text/plain": [
              "array([[12.321096]], dtype=float32)"
            ]
          },
          "metadata": {},
          "execution_count": 72
        }
      ],
      "source": [
        "rnn_model.predict(prior_days) # note the structure of the prediction"
      ]
    },
    {
      "cell_type": "code",
      "execution_count": 75,
      "metadata": {
        "colab": {
          "base_uri": "https://localhost:8080/"
        },
        "id": "nhpymvd4lB62",
        "outputId": "4b665754-f6ec-41ed-b2a8-33f0998b7862"
      },
      "outputs": [
        {
          "output_type": "stream",
          "name": "stdout",
          "text": [
            "1/1 [==============================] - 0s 25ms/step\n"
          ]
        }
      ],
      "source": [
        "tomorrows_rnn_stock = rnn_model.predict(prior_days)[0][0] # we see the predicted stock is embedded inside two dimensions"
      ]
    },
    {
      "cell_type": "code",
      "execution_count": 76,
      "metadata": {
        "colab": {
          "base_uri": "https://localhost:8080/"
        },
        "id": "xPdSss2JlJRe",
        "outputId": "bea01279-b76d-41a7-cd0b-1485be43c330"
      },
      "outputs": [
        {
          "output_type": "stream",
          "name": "stdout",
          "text": [
            "Tomorrow's RNN model predicted stock is 12.321096420288086\n"
          ]
        }
      ],
      "source": [
        "# Printing tomorrow's predicted stock value from the RNN model\n",
        "print(f\"Tomorrow's RNN model predicted stock is {tomorrows_rnn_stock}\")"
      ]
    },
    {
      "cell_type": "markdown",
      "metadata": {
        "id": "ghXaiMd5Lz2l"
      },
      "source": [
        "Based on the RNN model's prediction, the stock price for tomorrow is expected to be approximately  12.321096420288086."
      ]
    },
    {
      "cell_type": "markdown",
      "metadata": {
        "id": "KXi9eGjbmUIF"
      },
      "source": [
        "### Model- 2 : LSTM"
      ]
    },
    {
      "cell_type": "code",
      "execution_count": 77,
      "metadata": {
        "colab": {
          "base_uri": "https://localhost:8080/"
        },
        "id": "q6bPz9mZmTvP",
        "outputId": "99f6e764-bfc3-4eb1-828d-bbb4611e624f"
      },
      "outputs": [
        {
          "output_type": "stream",
          "name": "stdout",
          "text": [
            "Model: \"sequential_5\"\n",
            "_________________________________________________________________\n",
            " Layer (type)                Output Shape              Param #   \n",
            "=================================================================\n",
            " lstm_3 (LSTM)               (None, 64)                16896     \n",
            "                                                                 \n",
            " dense_7 (Dense)             (None, 1)                 65        \n",
            "                                                                 \n",
            "=================================================================\n",
            "Total params: 16961 (66.25 KB)\n",
            "Trainable params: 16961 (66.25 KB)\n",
            "Non-trainable params: 0 (0.00 Byte)\n",
            "_________________________________________________________________\n"
          ]
        }
      ],
      "source": [
        "# Defining the LSTM model architecture\n",
        "lstm_model = Sequential([\n",
        "    LSTM(64, input_shape=[n_steps, n_inputs]),\n",
        "    Dense(1)  # Dense layer with a single unit\n",
        "])\n",
        "\n",
        "# Printing the summary of the LSTM model\n",
        "lstm_model.summary()\n"
      ]
    },
    {
      "cell_type": "markdown",
      "metadata": {
        "id": "DkZu5H4wLz2m"
      },
      "source": [
        "This is a summary of the LSTM model named \"sequential_8\" in Keras. It has two layers:\n",
        "\n",
        "LSTM layer with 64 units and 16896 parameters.\n",
        "Dense layer with 1 unit and 65 parameters.\n",
        "The total number of trainable parameters is 16961, and there are no non-trainable parameters. The output shape of the LSTM layer is (None, 64), and the output shape of the Dense layer is (None, 1)."
      ]
    },
    {
      "cell_type": "code",
      "execution_count": 78,
      "metadata": {
        "id": "nVNIqnupmR3_"
      },
      "outputs": [],
      "source": [
        "# Compilation\n",
        "lstm_model.compile(\n",
        "    loss=\"mean_squared_error\",\n",
        "    optimizer=tf.keras.optimizers.Nadam(learning_rate=0.001),\n",
        "    metrics=[tf.keras.metrics.RootMeanSquaredError()]\n",
        ")"
      ]
    },
    {
      "cell_type": "code",
      "execution_count": 79,
      "metadata": {
        "colab": {
          "base_uri": "https://localhost:8080/"
        },
        "id": "MD8zL2VemsnW",
        "outputId": "cb988993-f865-45b6-b696-f47d839ebca8"
      },
      "outputs": [
        {
          "output_type": "stream",
          "name": "stdout",
          "text": [
            "Epoch 1/100\n",
            "2/2 [==============================] - 4s 525ms/step - loss: 15758.6680 - root_mean_squared_error: 125.5335 - val_loss: 14625.0332 - val_root_mean_squared_error: 120.9340\n",
            "Epoch 2/100\n",
            "2/2 [==============================] - 0s 54ms/step - loss: 15739.2637 - root_mean_squared_error: 125.4562 - val_loss: 14607.6426 - val_root_mean_squared_error: 120.8621\n",
            "Epoch 3/100\n",
            "2/2 [==============================] - 0s 55ms/step - loss: 15720.6816 - root_mean_squared_error: 125.3821 - val_loss: 14587.6455 - val_root_mean_squared_error: 120.7793\n",
            "Epoch 4/100\n",
            "2/2 [==============================] - 0s 71ms/step - loss: 15699.6123 - root_mean_squared_error: 125.2981 - val_loss: 14564.6250 - val_root_mean_squared_error: 120.6840\n",
            "Epoch 5/100\n",
            "2/2 [==============================] - 0s 74ms/step - loss: 15672.6416 - root_mean_squared_error: 125.1904 - val_loss: 14498.7061 - val_root_mean_squared_error: 120.4106\n",
            "Epoch 6/100\n",
            "2/2 [==============================] - 0s 54ms/step - loss: 15606.3164 - root_mean_squared_error: 124.9252 - val_loss: 14465.1621 - val_root_mean_squared_error: 120.2712\n",
            "Epoch 7/100\n",
            "2/2 [==============================] - 0s 69ms/step - loss: 15572.9727 - root_mean_squared_error: 124.7917 - val_loss: 14435.9951 - val_root_mean_squared_error: 120.1499\n",
            "Epoch 8/100\n",
            "2/2 [==============================] - 0s 73ms/step - loss: 15542.9697 - root_mean_squared_error: 124.6714 - val_loss: 14406.7295 - val_root_mean_squared_error: 120.0280\n",
            "Epoch 9/100\n",
            "2/2 [==============================] - 0s 73ms/step - loss: 15512.0801 - root_mean_squared_error: 124.5475 - val_loss: 14375.1230 - val_root_mean_squared_error: 119.8963\n",
            "Epoch 10/100\n",
            "2/2 [==============================] - 0s 68ms/step - loss: 15478.8809 - root_mean_squared_error: 124.4142 - val_loss: 14339.4951 - val_root_mean_squared_error: 119.7476\n",
            "Epoch 11/100\n",
            "2/2 [==============================] - 0s 56ms/step - loss: 15440.6641 - root_mean_squared_error: 124.2605 - val_loss: 14299.9346 - val_root_mean_squared_error: 119.5823\n",
            "Epoch 12/100\n",
            "2/2 [==============================] - 0s 71ms/step - loss: 15398.9746 - root_mean_squared_error: 124.0926 - val_loss: 14258.5293 - val_root_mean_squared_error: 119.4091\n",
            "Epoch 13/100\n",
            "2/2 [==============================] - 0s 53ms/step - loss: 15355.8916 - root_mean_squared_error: 123.9189 - val_loss: 14215.7656 - val_root_mean_squared_error: 119.2299\n",
            "Epoch 14/100\n",
            "2/2 [==============================] - 0s 56ms/step - loss: 15310.7607 - root_mean_squared_error: 123.7367 - val_loss: 14170.1719 - val_root_mean_squared_error: 119.0385\n",
            "Epoch 15/100\n",
            "2/2 [==============================] - 0s 68ms/step - loss: 15262.8418 - root_mean_squared_error: 123.5429 - val_loss: 14120.0000 - val_root_mean_squared_error: 118.8276\n",
            "Epoch 16/100\n",
            "2/2 [==============================] - 0s 54ms/step - loss: 15211.3350 - root_mean_squared_error: 123.3342 - val_loss: 14064.6465 - val_root_mean_squared_error: 118.5945\n",
            "Epoch 17/100\n",
            "2/2 [==============================] - 0s 65ms/step - loss: 15154.8682 - root_mean_squared_error: 123.1051 - val_loss: 14004.9941 - val_root_mean_squared_error: 118.3427\n",
            "Epoch 18/100\n",
            "2/2 [==============================] - 0s 66ms/step - loss: 15096.0137 - root_mean_squared_error: 122.8658 - val_loss: 13946.4004 - val_root_mean_squared_error: 118.0949\n",
            "Epoch 19/100\n",
            "2/2 [==============================] - 0s 49ms/step - loss: 15034.8662 - root_mean_squared_error: 122.6167 - val_loss: 13889.4551 - val_root_mean_squared_error: 117.8535\n",
            "Epoch 20/100\n",
            "2/2 [==============================] - 0s 69ms/step - loss: 14975.0430 - root_mean_squared_error: 122.3726 - val_loss: 13833.7871 - val_root_mean_squared_error: 117.6171\n",
            "Epoch 21/100\n",
            "2/2 [==============================] - 0s 69ms/step - loss: 14915.3643 - root_mean_squared_error: 122.1285 - val_loss: 13776.7314 - val_root_mean_squared_error: 117.3743\n",
            "Epoch 22/100\n",
            "2/2 [==============================] - 0s 71ms/step - loss: 14853.4346 - root_mean_squared_error: 121.8747 - val_loss: 13714.8906 - val_root_mean_squared_error: 117.1106\n",
            "Epoch 23/100\n",
            "2/2 [==============================] - 0s 64ms/step - loss: 14787.2559 - root_mean_squared_error: 121.6029 - val_loss: 13645.4736 - val_root_mean_squared_error: 116.8138\n",
            "Epoch 24/100\n",
            "2/2 [==============================] - 0s 71ms/step - loss: 14716.0273 - root_mean_squared_error: 121.3096 - val_loss: 13569.7266 - val_root_mean_squared_error: 116.4892\n",
            "Epoch 25/100\n",
            "2/2 [==============================] - 0s 70ms/step - loss: 14642.0850 - root_mean_squared_error: 121.0045 - val_loss: 13492.6191 - val_root_mean_squared_error: 116.1577\n",
            "Epoch 26/100\n",
            "2/2 [==============================] - 0s 67ms/step - loss: 14567.5859 - root_mean_squared_error: 120.6963 - val_loss: 13422.2559 - val_root_mean_squared_error: 115.8545\n",
            "Epoch 27/100\n",
            "2/2 [==============================] - 0s 58ms/step - loss: 14496.9199 - root_mean_squared_error: 120.4032 - val_loss: 13363.4092 - val_root_mean_squared_error: 115.6002\n",
            "Epoch 28/100\n",
            "2/2 [==============================] - 0s 64ms/step - loss: 14435.3057 - root_mean_squared_error: 120.1470 - val_loss: 13313.4004 - val_root_mean_squared_error: 115.3837\n",
            "Epoch 29/100\n",
            "2/2 [==============================] - 0s 79ms/step - loss: 14380.4736 - root_mean_squared_error: 119.9186 - val_loss: 13264.2520 - val_root_mean_squared_error: 115.1705\n",
            "Epoch 30/100\n",
            "2/2 [==============================] - 0s 63ms/step - loss: 14327.7773 - root_mean_squared_error: 119.6987 - val_loss: 13210.5625 - val_root_mean_squared_error: 114.9372\n",
            "Epoch 31/100\n",
            "2/2 [==============================] - 0s 66ms/step - loss: 14272.2666 - root_mean_squared_error: 119.4666 - val_loss: 13152.3330 - val_root_mean_squared_error: 114.6836\n",
            "Epoch 32/100\n",
            "2/2 [==============================] - 0s 91ms/step - loss: 14214.6875 - root_mean_squared_error: 119.2254 - val_loss: 13095.2998 - val_root_mean_squared_error: 114.4347\n",
            "Epoch 33/100\n",
            "2/2 [==============================] - 0s 81ms/step - loss: 14158.6719 - root_mean_squared_error: 118.9902 - val_loss: 13042.6875 - val_root_mean_squared_error: 114.2046\n",
            "Epoch 34/100\n",
            "2/2 [==============================] - 0s 80ms/step - loss: 14106.7852 - root_mean_squared_error: 118.7720 - val_loss: 12997.0439 - val_root_mean_squared_error: 114.0046\n",
            "Epoch 35/100\n",
            "2/2 [==============================] - 0s 48ms/step - loss: 14061.7773 - root_mean_squared_error: 118.5824 - val_loss: 12961.4580 - val_root_mean_squared_error: 113.8484\n",
            "Epoch 36/100\n",
            "2/2 [==============================] - 0s 47ms/step - loss: 14024.9697 - root_mean_squared_error: 118.4271 - val_loss: 12931.3828 - val_root_mean_squared_error: 113.7162\n",
            "Epoch 37/100\n",
            "2/2 [==============================] - 0s 47ms/step - loss: 13991.9805 - root_mean_squared_error: 118.2877 - val_loss: 12902.1592 - val_root_mean_squared_error: 113.5877\n",
            "Epoch 38/100\n",
            "2/2 [==============================] - 0s 42ms/step - loss: 13961.7227 - root_mean_squared_error: 118.1597 - val_loss: 12872.0654 - val_root_mean_squared_error: 113.4551\n",
            "Epoch 39/100\n",
            "2/2 [==============================] - 0s 45ms/step - loss: 13930.7334 - root_mean_squared_error: 118.0285 - val_loss: 12840.1797 - val_root_mean_squared_error: 113.3145\n",
            "Epoch 40/100\n",
            "2/2 [==============================] - 0s 49ms/step - loss: 13897.8975 - root_mean_squared_error: 117.8893 - val_loss: 12807.4824 - val_root_mean_squared_error: 113.1702\n",
            "Epoch 41/100\n",
            "2/2 [==============================] - 0s 56ms/step - loss: 13864.5332 - root_mean_squared_error: 117.7477 - val_loss: 12775.7998 - val_root_mean_squared_error: 113.0301\n",
            "Epoch 42/100\n",
            "2/2 [==============================] - 0s 45ms/step - loss: 13831.5898 - root_mean_squared_error: 117.6078 - val_loss: 12745.0654 - val_root_mean_squared_error: 112.8940\n",
            "Epoch 43/100\n",
            "2/2 [==============================] - 0s 38ms/step - loss: 13800.0273 - root_mean_squared_error: 117.4735 - val_loss: 12714.4717 - val_root_mean_squared_error: 112.7585\n",
            "Epoch 44/100\n",
            "2/2 [==============================] - 0s 36ms/step - loss: 13767.7441 - root_mean_squared_error: 117.3360 - val_loss: 12682.3887 - val_root_mean_squared_error: 112.6161\n",
            "Epoch 45/100\n",
            "2/2 [==============================] - 0s 42ms/step - loss: 13734.5234 - root_mean_squared_error: 117.1944 - val_loss: 12648.1387 - val_root_mean_squared_error: 112.4639\n",
            "Epoch 46/100\n",
            "2/2 [==============================] - 0s 36ms/step - loss: 13699.5166 - root_mean_squared_error: 117.0449 - val_loss: 12613.6748 - val_root_mean_squared_error: 112.3106\n",
            "Epoch 47/100\n",
            "2/2 [==============================] - 0s 43ms/step - loss: 13664.4385 - root_mean_squared_error: 116.8950 - val_loss: 12582.1270 - val_root_mean_squared_error: 112.1701\n",
            "Epoch 48/100\n",
            "2/2 [==============================] - 0s 38ms/step - loss: 13632.4014 - root_mean_squared_error: 116.7579 - val_loss: 12553.4238 - val_root_mean_squared_error: 112.0421\n",
            "Epoch 49/100\n",
            "2/2 [==============================] - 0s 56ms/step - loss: 13603.1143 - root_mean_squared_error: 116.6324 - val_loss: 12526.1953 - val_root_mean_squared_error: 111.9205\n",
            "Epoch 50/100\n",
            "2/2 [==============================] - 0s 39ms/step - loss: 13574.8037 - root_mean_squared_error: 116.5110 - val_loss: 12500.1201 - val_root_mean_squared_error: 111.8039\n",
            "Epoch 51/100\n",
            "2/2 [==============================] - 0s 38ms/step - loss: 13547.9502 - root_mean_squared_error: 116.3957 - val_loss: 12474.7764 - val_root_mean_squared_error: 111.6905\n",
            "Epoch 52/100\n",
            "2/2 [==============================] - 0s 37ms/step - loss: 13521.6748 - root_mean_squared_error: 116.2827 - val_loss: 12449.1074 - val_root_mean_squared_error: 111.5756\n",
            "Epoch 53/100\n",
            "2/2 [==============================] - 0s 42ms/step - loss: 13495.6982 - root_mean_squared_error: 116.1710 - val_loss: 12423.1582 - val_root_mean_squared_error: 111.4592\n",
            "Epoch 54/100\n",
            "2/2 [==============================] - 0s 46ms/step - loss: 13468.9727 - root_mean_squared_error: 116.0559 - val_loss: 12397.8340 - val_root_mean_squared_error: 111.3456\n",
            "Epoch 55/100\n",
            "2/2 [==============================] - 0s 41ms/step - loss: 13442.8486 - root_mean_squared_error: 115.9433 - val_loss: 12372.8936 - val_root_mean_squared_error: 111.2335\n",
            "Epoch 56/100\n",
            "2/2 [==============================] - 0s 48ms/step - loss: 13416.9482 - root_mean_squared_error: 115.8316 - val_loss: 12347.6543 - val_root_mean_squared_error: 111.1200\n",
            "Epoch 57/100\n",
            "2/2 [==============================] - 0s 38ms/step - loss: 13391.3320 - root_mean_squared_error: 115.7209 - val_loss: 12323.0449 - val_root_mean_squared_error: 111.0092\n",
            "Epoch 58/100\n",
            "2/2 [==============================] - 0s 41ms/step - loss: 13365.8662 - root_mean_squared_error: 115.6108 - val_loss: 12299.1934 - val_root_mean_squared_error: 110.9017\n",
            "Epoch 59/100\n",
            "2/2 [==============================] - 0s 50ms/step - loss: 13340.8193 - root_mean_squared_error: 115.5025 - val_loss: 12275.1582 - val_root_mean_squared_error: 110.7933\n",
            "Epoch 60/100\n",
            "2/2 [==============================] - 0s 45ms/step - loss: 13315.4971 - root_mean_squared_error: 115.3928 - val_loss: 12250.7793 - val_root_mean_squared_error: 110.6832\n",
            "Epoch 61/100\n",
            "2/2 [==============================] - 0s 47ms/step - loss: 13290.2900 - root_mean_squared_error: 115.2835 - val_loss: 12226.1562 - val_root_mean_squared_error: 110.5720\n",
            "Epoch 62/100\n",
            "2/2 [==============================] - 0s 45ms/step - loss: 13264.6084 - root_mean_squared_error: 115.1721 - val_loss: 12200.8164 - val_root_mean_squared_error: 110.4573\n",
            "Epoch 63/100\n",
            "2/2 [==============================] - 0s 44ms/step - loss: 13237.9551 - root_mean_squared_error: 115.0563 - val_loss: 12173.0684 - val_root_mean_squared_error: 110.3316\n",
            "Epoch 64/100\n",
            "2/2 [==============================] - 0s 55ms/step - loss: 13208.1641 - root_mean_squared_error: 114.9268 - val_loss: 12139.7227 - val_root_mean_squared_error: 110.1804\n",
            "Epoch 65/100\n",
            "2/2 [==============================] - 0s 47ms/step - loss: 13172.3857 - root_mean_squared_error: 114.7710 - val_loss: 12095.7207 - val_root_mean_squared_error: 109.9805\n",
            "Epoch 66/100\n",
            "2/2 [==============================] - 0s 61ms/step - loss: 13127.3682 - root_mean_squared_error: 114.5747 - val_loss: 12038.7832 - val_root_mean_squared_error: 109.7214\n",
            "Epoch 67/100\n",
            "2/2 [==============================] - 0s 65ms/step - loss: 13072.3389 - root_mean_squared_error: 114.3343 - val_loss: 11987.6094 - val_root_mean_squared_error: 109.4879\n",
            "Epoch 68/100\n",
            "2/2 [==============================] - 0s 45ms/step - loss: 13019.9170 - root_mean_squared_error: 114.1049 - val_loss: 11954.1729 - val_root_mean_squared_error: 109.3351\n",
            "Epoch 69/100\n",
            "2/2 [==============================] - 0s 46ms/step - loss: 12984.0254 - root_mean_squared_error: 113.9475 - val_loss: 11923.9893 - val_root_mean_squared_error: 109.1970\n",
            "Epoch 70/100\n",
            "2/2 [==============================] - 0s 62ms/step - loss: 12952.6289 - root_mean_squared_error: 113.8096 - val_loss: 11892.0479 - val_root_mean_squared_error: 109.0507\n",
            "Epoch 71/100\n",
            "2/2 [==============================] - 0s 63ms/step - loss: 12919.8281 - root_mean_squared_error: 113.6654 - val_loss: 11858.3789 - val_root_mean_squared_error: 108.8962\n",
            "Epoch 72/100\n",
            "2/2 [==============================] - 0s 47ms/step - loss: 12885.0898 - root_mean_squared_error: 113.5125 - val_loss: 11825.0625 - val_root_mean_squared_error: 108.7431\n",
            "Epoch 73/100\n",
            "2/2 [==============================] - 0s 38ms/step - loss: 12849.5762 - root_mean_squared_error: 113.3560 - val_loss: 11791.0498 - val_root_mean_squared_error: 108.5866\n",
            "Epoch 74/100\n",
            "2/2 [==============================] - 0s 43ms/step - loss: 12812.7207 - root_mean_squared_error: 113.1933 - val_loss: 11749.5596 - val_root_mean_squared_error: 108.3954\n",
            "Epoch 75/100\n",
            "2/2 [==============================] - 0s 40ms/step - loss: 12768.2178 - root_mean_squared_error: 112.9965 - val_loss: 11694.8418 - val_root_mean_squared_error: 108.1427\n",
            "Epoch 76/100\n",
            "2/2 [==============================] - 0s 37ms/step - loss: 12717.4414 - root_mean_squared_error: 112.7716 - val_loss: 11651.5762 - val_root_mean_squared_error: 107.9425\n",
            "Epoch 77/100\n",
            "2/2 [==============================] - 0s 37ms/step - loss: 12673.6582 - root_mean_squared_error: 112.5773 - val_loss: 11623.8457 - val_root_mean_squared_error: 107.8139\n",
            "Epoch 78/100\n",
            "2/2 [==============================] - 0s 38ms/step - loss: 12642.8428 - root_mean_squared_error: 112.4404 - val_loss: 11596.0312 - val_root_mean_squared_error: 107.6849\n",
            "Epoch 79/100\n",
            "2/2 [==============================] - 0s 55ms/step - loss: 12613.4473 - root_mean_squared_error: 112.3096 - val_loss: 11564.5996 - val_root_mean_squared_error: 107.5388\n",
            "Epoch 80/100\n",
            "2/2 [==============================] - 0s 38ms/step - loss: 12580.5469 - root_mean_squared_error: 112.1630 - val_loss: 11527.2793 - val_root_mean_squared_error: 107.3652\n",
            "Epoch 81/100\n",
            "2/2 [==============================] - 0s 56ms/step - loss: 12542.7900 - root_mean_squared_error: 111.9946 - val_loss: 11485.8525 - val_root_mean_squared_error: 107.1721\n",
            "Epoch 82/100\n",
            "2/2 [==============================] - 0s 37ms/step - loss: 12500.2900 - root_mean_squared_error: 111.8047 - val_loss: 11447.1621 - val_root_mean_squared_error: 106.9914\n",
            "Epoch 83/100\n",
            "2/2 [==============================] - 0s 41ms/step - loss: 12460.8916 - root_mean_squared_error: 111.6284 - val_loss: 11415.1738 - val_root_mean_squared_error: 106.8418\n",
            "Epoch 84/100\n",
            "2/2 [==============================] - 0s 37ms/step - loss: 12427.6875 - root_mean_squared_error: 111.4795 - val_loss: 11387.4404 - val_root_mean_squared_error: 106.7120\n",
            "Epoch 85/100\n",
            "2/2 [==============================] - 0s 37ms/step - loss: 12399.1045 - root_mean_squared_error: 111.3513 - val_loss: 11361.6836 - val_root_mean_squared_error: 106.5912\n",
            "Epoch 86/100\n",
            "2/2 [==============================] - 0s 42ms/step - loss: 12372.6279 - root_mean_squared_error: 111.2323 - val_loss: 11336.8691 - val_root_mean_squared_error: 106.4747\n",
            "Epoch 87/100\n",
            "2/2 [==============================] - 0s 37ms/step - loss: 12346.8281 - root_mean_squared_error: 111.1163 - val_loss: 11312.5234 - val_root_mean_squared_error: 106.3603\n",
            "Epoch 88/100\n",
            "2/2 [==============================] - 0s 38ms/step - loss: 12321.7070 - root_mean_squared_error: 111.0032 - val_loss: 11288.4688 - val_root_mean_squared_error: 106.2472\n",
            "Epoch 89/100\n",
            "2/2 [==============================] - 0s 40ms/step - loss: 12297.0449 - root_mean_squared_error: 110.8920 - val_loss: 11264.6826 - val_root_mean_squared_error: 106.1352\n",
            "Epoch 90/100\n",
            "2/2 [==============================] - 0s 37ms/step - loss: 12272.5098 - root_mean_squared_error: 110.7814 - val_loss: 11241.1387 - val_root_mean_squared_error: 106.0242\n",
            "Epoch 91/100\n",
            "2/2 [==============================] - 0s 58ms/step - loss: 12248.1719 - root_mean_squared_error: 110.6715 - val_loss: 11217.8008 - val_root_mean_squared_error: 105.9141\n",
            "Epoch 92/100\n",
            "2/2 [==============================] - 0s 63ms/step - loss: 12223.9697 - root_mean_squared_error: 110.5621 - val_loss: 11194.6172 - val_root_mean_squared_error: 105.8046\n",
            "Epoch 93/100\n",
            "2/2 [==============================] - 0s 44ms/step - loss: 12200.0420 - root_mean_squared_error: 110.4538 - val_loss: 11171.5762 - val_root_mean_squared_error: 105.6957\n",
            "Epoch 94/100\n",
            "2/2 [==============================] - 0s 46ms/step - loss: 12176.3281 - root_mean_squared_error: 110.3464 - val_loss: 11148.6973 - val_root_mean_squared_error: 105.5874\n",
            "Epoch 95/100\n",
            "2/2 [==============================] - 0s 45ms/step - loss: 12152.5635 - root_mean_squared_error: 110.2387 - val_loss: 11125.9395 - val_root_mean_squared_error: 105.4796\n",
            "Epoch 96/100\n",
            "2/2 [==============================] - 0s 69ms/step - loss: 12129.4336 - root_mean_squared_error: 110.1337 - val_loss: 11103.3975 - val_root_mean_squared_error: 105.3727\n",
            "Epoch 97/100\n",
            "2/2 [==============================] - 0s 47ms/step - loss: 12105.7266 - root_mean_squared_error: 110.0260 - val_loss: 11080.9570 - val_root_mean_squared_error: 105.2661\n",
            "Epoch 98/100\n",
            "2/2 [==============================] - 0s 68ms/step - loss: 12082.8623 - root_mean_squared_error: 109.9221 - val_loss: 11058.6748 - val_root_mean_squared_error: 105.1602\n",
            "Epoch 99/100\n",
            "2/2 [==============================] - 0s 46ms/step - loss: 12059.7373 - root_mean_squared_error: 109.8168 - val_loss: 11036.5342 - val_root_mean_squared_error: 105.0549\n",
            "Epoch 100/100\n",
            "2/2 [==============================] - 0s 46ms/step - loss: 12036.6748 - root_mean_squared_error: 109.7118 - val_loss: 11014.4648 - val_root_mean_squared_error: 104.9498\n"
          ]
        }
      ],
      "source": [
        "# Defining early stopping criteria\n",
        "early_stop = EarlyStopping(\n",
        "    monitor='val_root_mean_squared_error',\n",
        "    min_delta=0.0,\n",
        "    patience=5,\n",
        "    verbose=1,\n",
        "    mode='min'\n",
        ")\n",
        "\n",
        "# Training the LSTM model with early stopping\n",
        "lstm_history = lstm_model.fit(\n",
        "    X_train,\n",
        "    y_train,\n",
        "    epochs=100,\n",
        "    validation_data=(X_test, y_test),\n",
        "    callbacks=[early_stop]\n",
        ")\n",
        "\n",
        "# Recording the end time of training\n",
        "end_time = time.time()"
      ]
    },
    {
      "cell_type": "markdown",
      "metadata": {
        "id": "QhOfON-mm72b"
      },
      "source": [
        "### LSTM Model Evaluation Graph"
      ]
    },
    {
      "cell_type": "code",
      "execution_count": 80,
      "metadata": {
        "colab": {
          "base_uri": "https://localhost:8080/",
          "height": 554
        },
        "id": "yPE4pSQ0m1Y7",
        "outputId": "c6f73296-f507-4824-cef3-33eb5398ab2c"
      },
      "outputs": [
        {
          "output_type": "display_data",
          "data": {
            "text/plain": [
              "<Figure size 1400x700 with 2 Axes>"
            ],
            "image/png": "[encoded data removed]"
          },
          "metadata": {}
        }
      ],
      "source": [
        "# Plotting LSTM model evaluation metrics\n",
        "fig, (ax1, ax2) = plt.subplots(1, 2, figsize=(14, 7))\n",
        "fig.suptitle('LSTM Model Evaluation graph')\n",
        "\n",
        "# Plotting loss\n",
        "ax1.set_title('Loss')\n",
        "ax1.plot(lstm_history.history['loss'], label='Train Loss')\n",
        "ax1.plot(lstm_history.history['val_loss'], label='Test Loss')\n",
        "ax1.set_xlabel('Epoch')\n",
        "ax1.set_ylabel('Loss')\n",
        "ax1.legend()\n",
        "\n",
        "# Plotting RMSE\n",
        "ax2.set_title('Root Mean Squared Error')\n",
        "ax2.plot(lstm_history.history['root_mean_squared_error'], label='Train RMSE')\n",
        "ax2.plot(lstm_history.history['val_root_mean_squared_error'], label='Test RMSE')\n",
        "ax2.set_xlabel('Epoch')\n",
        "ax2.set_ylabel('RMSE')\n",
        "ax2.legend()\n",
        "\n",
        "plt.show()\n"
      ]
    },
    {
      "cell_type": "code",
      "execution_count": 81,
      "metadata": {
        "colab": {
          "base_uri": "https://localhost:8080/"
        },
        "id": "48RTuoTrnRsj",
        "outputId": "0c2d5444-d849-4167-bf4f-c2b09f0ef624"
      },
      "outputs": [
        {
          "output_type": "stream",
          "name": "stderr",
          "text": [
            "WARNING:tensorflow:5 out of the last 12 calls to <function Model.make_predict_function.<locals>.predict_function at 0x794e635fa320> triggered tf.function retracing. Tracing is expensive and the excessive number of tracings could be due to (1) creating @tf.function repeatedly in a loop, (2) passing tensors with different shapes, (3) passing Python objects instead of tensors. For (1), please define your @tf.function outside of the loop. For (2), @tf.function has reduce_retracing=True option that can avoid unnecessary retracing. For (3), please refer to https://www.tensorflow.org/guide/function#controlling_retracing and https://www.tensorflow.org/api_docs/python/tf/function for  more details.\n"
          ]
        },
        {
          "output_type": "stream",
          "name": "stdout",
          "text": [
            "1/1 [==============================] - 0s 415ms/step\n"
          ]
        },
        {
          "output_type": "execute_result",
          "data": {
            "text/plain": [
              "104.94982366467829"
            ]
          },
          "metadata": {},
          "execution_count": 81
        }
      ],
      "source": [
        "# RMSE Calculation\n",
        "y_pred = lstm_model.predict(X_test)\n",
        "\n",
        "mean_squared_error(y_test, y_pred)**0.5"
      ]
    },
    {
      "cell_type": "markdown",
      "metadata": {
        "id": "Y2oWq5gYLz2n"
      },
      "source": [
        "This code calculates the root mean squared error (RMSE) between the predicted values (y_pred) and the actual test values (y_test) for the LSTM model. The RMSE is a common metric for evaluating the performance of regression models, with a lower value indicating better performance. In this case, the RMSE is calculated as  104.94982366467829."
      ]
    },
    {
      "cell_type": "markdown",
      "metadata": {
        "id": "RWJr8bwOLz2n"
      },
      "source": [
        "### Testing on the last 10 of data"
      ]
    },
    {
      "cell_type": "code",
      "execution_count": 82,
      "metadata": {
        "colab": {
          "base_uri": "https://localhost:8080/"
        },
        "id": "KvlSOgy2nWpb",
        "outputId": "09554557-a318-46a2-c5c1-001423b97601"
      },
      "outputs": [
        {
          "output_type": "stream",
          "name": "stdout",
          "text": [
            "1/1 [==============================] - 0s 22ms/step\n",
            "Predictions LSTM Models predicted stock for the tommorrow stock price:\n",
            "[[16.49328]]\n"
          ]
        }
      ],
      "source": [
        "import numpy as np\n",
        "\n",
        "# Reshape the prior_days array for model input\n",
        "prior_days_reshaped = prior_days.reshape(1, 9, 1)\n",
        "\n",
        "# Test the model on the last 10 days of prior data\n",
        "predictions = lstm_model.predict(prior_days_reshaped)\n",
        "\n",
        "# Print the predictions\n",
        "print(\"Predictions LSTM Models predicted stock for the tommorrow stock price:\")\n",
        "print(predictions)"
      ]
    },
    {
      "cell_type": "markdown",
      "metadata": {
        "id": "NpGTKUz_Lz2n"
      },
      "source": [
        "The LSTM model has completed training and made a prediction for the stock price for the next day, which is 16.49328."
      ]
    },
    {
      "cell_type": "markdown",
      "metadata": {
        "id": "Dh9QtfxXqpm9"
      },
      "source": [
        "### Model 3 : GRU Model"
      ]
    },
    {
      "cell_type": "code",
      "execution_count": 83,
      "metadata": {
        "colab": {
          "base_uri": "https://localhost:8080/"
        },
        "id": "zxv1RyGLqrac",
        "outputId": "40147778-4688-4bf4-853a-c763a8b882fe"
      },
      "outputs": [
        {
          "output_type": "stream",
          "name": "stdout",
          "text": [
            "Model: \"sequential_6\"\n",
            "_________________________________________________________________\n",
            " Layer (type)                Output Shape              Param #   \n",
            "=================================================================\n",
            " gru_1 (GRU)                 (None, 64)                12864     \n",
            "                                                                 \n",
            " dense_8 (Dense)             (None, 1)                 65        \n",
            "                                                                 \n",
            "=================================================================\n",
            "Total params: 12929 (50.50 KB)\n",
            "Trainable params: 12929 (50.50 KB)\n",
            "Non-trainable params: 0 (0.00 Byte)\n",
            "_________________________________________________________________\n"
          ]
        }
      ],
      "source": [
        "# Defining the GRU model architecture\n",
        "gru_model = Sequential([\n",
        "    GRU(64, input_shape=[n_steps, n_inputs]),  # GRU layer with 64 units, expects input of shape [n_steps, n_inputs]\n",
        "    Dense(1)  # Dense layer with a single unit\n",
        "])\n",
        "\n",
        "# Printing the summary of the GRU model\n",
        "gru_model.summary()"
      ]
    },
    {
      "cell_type": "markdown",
      "metadata": {
        "id": "jTG3Yc5HLz2n"
      },
      "source": [
        "This is a summary of the GRU model named \"sequential_9\". It has two layers:\n",
        "\n",
        "GRU layer with 64 units and 12864 parameters.\n",
        "Dense layer with 1 unit and 65 parameters.\n",
        "The model has a total of 12929 trainable parameters."
      ]
    },
    {
      "cell_type": "code",
      "execution_count": 84,
      "metadata": {
        "id": "BggT50Gkqy2x"
      },
      "outputs": [],
      "source": [
        "# Compiling the GRU model\n",
        "gru_model.compile(\n",
        "    loss=\"mean_squared_error\",  # Mean Squared Error loss function\n",
        "    optimizer=tf.keras.optimizers.Nadam(learning_rate=0.001),  # Nadam optimizer with learning rate 0.001\n",
        "    metrics=[tf.keras.metrics.RootMeanSquaredError()]  # Root Mean Squared Error metric\n",
        ")"
      ]
    },
    {
      "cell_type": "code",
      "execution_count": 85,
      "metadata": {
        "colab": {
          "base_uri": "https://localhost:8080/"
        },
        "id": "gZ-HtMavq3tN",
        "outputId": "ec3d3592-780a-4616-e397-53f1fa393f1b"
      },
      "outputs": [
        {
          "output_type": "stream",
          "name": "stdout",
          "text": [
            "Epoch 1/100\n",
            "2/2 [==============================] - 3s 496ms/step - loss: 15999.0518 - root_mean_squared_error: 126.4874 - val_loss: 14856.9473 - val_root_mean_squared_error: 121.8891\n",
            "Epoch 2/100\n",
            "2/2 [==============================] - 0s 54ms/step - loss: 15973.7666 - root_mean_squared_error: 126.3874 - val_loss: 14833.8330 - val_root_mean_squared_error: 121.7942\n",
            "Epoch 3/100\n",
            "2/2 [==============================] - 0s 36ms/step - loss: 15949.5332 - root_mean_squared_error: 126.2915 - val_loss: 14808.2393 - val_root_mean_squared_error: 121.6891\n",
            "Epoch 4/100\n",
            "2/2 [==============================] - 0s 35ms/step - loss: 15922.5957 - root_mean_squared_error: 126.1848 - val_loss: 14779.2969 - val_root_mean_squared_error: 121.5701\n",
            "Epoch 5/100\n",
            "2/2 [==============================] - 0s 35ms/step - loss: 15891.8945 - root_mean_squared_error: 126.0631 - val_loss: 14744.9395 - val_root_mean_squared_error: 121.4287\n",
            "Epoch 6/100\n",
            "2/2 [==============================] - 0s 36ms/step - loss: 15855.1582 - root_mean_squared_error: 125.9173 - val_loss: 14700.7871 - val_root_mean_squared_error: 121.2468\n",
            "Epoch 7/100\n",
            "2/2 [==============================] - 0s 43ms/step - loss: 15807.3809 - root_mean_squared_error: 125.7274 - val_loss: 14639.6895 - val_root_mean_squared_error: 120.9946\n",
            "Epoch 8/100\n",
            "2/2 [==============================] - 0s 37ms/step - loss: 15741.6934 - root_mean_squared_error: 125.4659 - val_loss: 14557.0723 - val_root_mean_squared_error: 120.6527\n",
            "Epoch 9/100\n",
            "2/2 [==============================] - 0s 62ms/step - loss: 15653.6484 - root_mean_squared_error: 125.1145 - val_loss: 14453.8145 - val_root_mean_squared_error: 120.2240\n",
            "Epoch 10/100\n",
            "2/2 [==============================] - 0s 37ms/step - loss: 15545.6084 - root_mean_squared_error: 124.6820 - val_loss: 14335.5674 - val_root_mean_squared_error: 119.7312\n",
            "Epoch 11/100\n",
            "2/2 [==============================] - 0s 53ms/step - loss: 15422.9727 - root_mean_squared_error: 124.1893 - val_loss: 14214.0879 - val_root_mean_squared_error: 119.2228\n",
            "Epoch 12/100\n",
            "2/2 [==============================] - 0s 36ms/step - loss: 15299.4629 - root_mean_squared_error: 123.6910 - val_loss: 14106.3535 - val_root_mean_squared_error: 118.7702\n",
            "Epoch 13/100\n",
            "2/2 [==============================] - 0s 38ms/step - loss: 15188.5781 - root_mean_squared_error: 123.2420 - val_loss: 14017.3125 - val_root_mean_squared_error: 118.3947\n",
            "Epoch 14/100\n",
            "2/2 [==============================] - 0s 67ms/step - loss: 15097.5781 - root_mean_squared_error: 122.8722 - val_loss: 13943.8809 - val_root_mean_squared_error: 118.0842\n",
            "Epoch 15/100\n",
            "2/2 [==============================] - 0s 54ms/step - loss: 15021.6377 - root_mean_squared_error: 122.5628 - val_loss: 13878.6660 - val_root_mean_squared_error: 117.8077\n",
            "Epoch 16/100\n",
            "2/2 [==============================] - 0s 53ms/step - loss: 14953.9609 - root_mean_squared_error: 122.2864 - val_loss: 13816.2715 - val_root_mean_squared_error: 117.5426\n",
            "Epoch 17/100\n",
            "2/2 [==============================] - 0s 55ms/step - loss: 14888.4805 - root_mean_squared_error: 122.0184 - val_loss: 13752.7783 - val_root_mean_squared_error: 117.2722\n",
            "Epoch 18/100\n",
            "2/2 [==============================] - 0s 51ms/step - loss: 14821.7109 - root_mean_squared_error: 121.7444 - val_loss: 13681.0830 - val_root_mean_squared_error: 116.9662\n",
            "Epoch 19/100\n",
            "2/2 [==============================] - 0s 37ms/step - loss: 14747.8301 - root_mean_squared_error: 121.4406 - val_loss: 13599.1172 - val_root_mean_squared_error: 116.6152\n",
            "Epoch 20/100\n",
            "2/2 [==============================] - 0s 54ms/step - loss: 14665.4941 - root_mean_squared_error: 121.1012 - val_loss: 13515.2920 - val_root_mean_squared_error: 116.2553\n",
            "Epoch 21/100\n",
            "2/2 [==============================] - 0s 39ms/step - loss: 14581.7695 - root_mean_squared_error: 120.7550 - val_loss: 13439.3389 - val_root_mean_squared_error: 115.9282\n",
            "Epoch 22/100\n",
            "2/2 [==============================] - 0s 54ms/step - loss: 14501.9307 - root_mean_squared_error: 120.4240 - val_loss: 13368.2168 - val_root_mean_squared_error: 115.6210\n",
            "Epoch 23/100\n",
            "2/2 [==============================] - 0s 40ms/step - loss: 14428.0400 - root_mean_squared_error: 120.1168 - val_loss: 13299.0254 - val_root_mean_squared_error: 115.3214\n",
            "Epoch 24/100\n",
            "2/2 [==============================] - 0s 37ms/step - loss: 14353.3223 - root_mean_squared_error: 119.8054 - val_loss: 13224.9375 - val_root_mean_squared_error: 114.9997\n",
            "Epoch 25/100\n",
            "2/2 [==============================] - 0s 46ms/step - loss: 14274.0527 - root_mean_squared_error: 119.4741 - val_loss: 13133.5723 - val_root_mean_squared_error: 114.6018\n",
            "Epoch 26/100\n",
            "2/2 [==============================] - 0s 42ms/step - loss: 14184.4775 - root_mean_squared_error: 119.0986 - val_loss: 13029.0625 - val_root_mean_squared_error: 114.1449\n",
            "Epoch 27/100\n",
            "2/2 [==============================] - 0s 37ms/step - loss: 14084.8418 - root_mean_squared_error: 118.6796 - val_loss: 12934.3359 - val_root_mean_squared_error: 113.7292\n",
            "Epoch 28/100\n",
            "2/2 [==============================] - 0s 64ms/step - loss: 13985.9414 - root_mean_squared_error: 118.2622 - val_loss: 12860.3936 - val_root_mean_squared_error: 113.4037\n",
            "Epoch 29/100\n",
            "2/2 [==============================] - 0s 45ms/step - loss: 13900.6504 - root_mean_squared_error: 117.9010 - val_loss: 12791.7676 - val_root_mean_squared_error: 113.1007\n",
            "Epoch 30/100\n",
            "2/2 [==============================] - 0s 69ms/step - loss: 13825.3711 - root_mean_squared_error: 117.5813 - val_loss: 12712.1436 - val_root_mean_squared_error: 112.7481\n",
            "Epoch 31/100\n",
            "2/2 [==============================] - 0s 57ms/step - loss: 13748.4502 - root_mean_squared_error: 117.2538 - val_loss: 12621.5234 - val_root_mean_squared_error: 112.3456\n",
            "Epoch 32/100\n",
            "2/2 [==============================] - 0s 64ms/step - loss: 13668.9502 - root_mean_squared_error: 116.9143 - val_loss: 12538.6230 - val_root_mean_squared_error: 111.9760\n",
            "Epoch 33/100\n",
            "2/2 [==============================] - 0s 58ms/step - loss: 13595.2402 - root_mean_squared_error: 116.5986 - val_loss: 12477.5869 - val_root_mean_squared_error: 111.7031\n",
            "Epoch 34/100\n",
            "2/2 [==============================] - 0s 60ms/step - loss: 13529.5918 - root_mean_squared_error: 116.3168 - val_loss: 12429.3379 - val_root_mean_squared_error: 111.4869\n",
            "Epoch 35/100\n",
            "2/2 [==============================] - 0s 61ms/step - loss: 13477.5371 - root_mean_squared_error: 116.0928 - val_loss: 12387.5576 - val_root_mean_squared_error: 111.2994\n",
            "Epoch 36/100\n",
            "2/2 [==============================] - 0s 49ms/step - loss: 13434.3193 - root_mean_squared_error: 115.9065 - val_loss: 12353.4707 - val_root_mean_squared_error: 111.1462\n",
            "Epoch 37/100\n",
            "2/2 [==============================] - 0s 63ms/step - loss: 13397.7764 - root_mean_squared_error: 115.7488 - val_loss: 12323.9863 - val_root_mean_squared_error: 111.0135\n",
            "Epoch 38/100\n",
            "2/2 [==============================] - 0s 79ms/step - loss: 13366.6455 - root_mean_squared_error: 115.6142 - val_loss: 12295.8115 - val_root_mean_squared_error: 110.8865\n",
            "Epoch 39/100\n",
            "2/2 [==============================] - 0s 57ms/step - loss: 13336.7998 - root_mean_squared_error: 115.4851 - val_loss: 12267.9121 - val_root_mean_squared_error: 110.7606\n",
            "Epoch 40/100\n",
            "2/2 [==============================] - 0s 51ms/step - loss: 13308.0693 - root_mean_squared_error: 115.3606 - val_loss: 12240.2178 - val_root_mean_squared_error: 110.6355\n",
            "Epoch 41/100\n",
            "2/2 [==============================] - 0s 68ms/step - loss: 13279.0459 - root_mean_squared_error: 115.2347 - val_loss: 12212.5732 - val_root_mean_squared_error: 110.5105\n",
            "Epoch 42/100\n",
            "2/2 [==============================] - 0s 64ms/step - loss: 13250.7871 - root_mean_squared_error: 115.1121 - val_loss: 12185.0781 - val_root_mean_squared_error: 110.3860\n",
            "Epoch 43/100\n",
            "2/2 [==============================] - 0s 52ms/step - loss: 13222.4746 - root_mean_squared_error: 114.9890 - val_loss: 12157.7520 - val_root_mean_squared_error: 110.2622\n",
            "Epoch 44/100\n",
            "2/2 [==============================] - 0s 62ms/step - loss: 13194.2656 - root_mean_squared_error: 114.8663 - val_loss: 12130.5859 - val_root_mean_squared_error: 110.1389\n",
            "Epoch 45/100\n",
            "2/2 [==============================] - 0s 63ms/step - loss: 13166.0996 - root_mean_squared_error: 114.7436 - val_loss: 12103.5371 - val_root_mean_squared_error: 110.0161\n",
            "Epoch 46/100\n",
            "2/2 [==============================] - 0s 44ms/step - loss: 13138.1279 - root_mean_squared_error: 114.6217 - val_loss: 12076.5820 - val_root_mean_squared_error: 109.8935\n",
            "Epoch 47/100\n",
            "2/2 [==============================] - 0s 85ms/step - loss: 13110.4697 - root_mean_squared_error: 114.5010 - val_loss: 12049.7754 - val_root_mean_squared_error: 109.7715\n",
            "Epoch 48/100\n",
            "2/2 [==============================] - 0s 77ms/step - loss: 13082.6221 - root_mean_squared_error: 114.3793 - val_loss: 12023.0508 - val_root_mean_squared_error: 109.6497\n",
            "Epoch 49/100\n",
            "2/2 [==============================] - 0s 82ms/step - loss: 13054.8955 - root_mean_squared_error: 114.2580 - val_loss: 11996.3252 - val_root_mean_squared_error: 109.5277\n",
            "Epoch 50/100\n",
            "2/2 [==============================] - 0s 82ms/step - loss: 13027.1338 - root_mean_squared_error: 114.1365 - val_loss: 11969.4707 - val_root_mean_squared_error: 109.4051\n",
            "Epoch 51/100\n",
            "2/2 [==============================] - 0s 78ms/step - loss: 12998.7246 - root_mean_squared_error: 114.0119 - val_loss: 11942.0664 - val_root_mean_squared_error: 109.2798\n",
            "Epoch 52/100\n",
            "2/2 [==============================] - 0s 58ms/step - loss: 12969.3555 - root_mean_squared_error: 113.8831 - val_loss: 11913.2676 - val_root_mean_squared_error: 109.1479\n",
            "Epoch 53/100\n",
            "2/2 [==============================] - 0s 85ms/step - loss: 12937.4834 - root_mean_squared_error: 113.7431 - val_loss: 11881.0176 - val_root_mean_squared_error: 109.0001\n",
            "Epoch 54/100\n",
            "2/2 [==============================] - 0s 79ms/step - loss: 12900.8447 - root_mean_squared_error: 113.5819 - val_loss: 11841.3525 - val_root_mean_squared_error: 108.8180\n",
            "Epoch 55/100\n",
            "2/2 [==============================] - 0s 62ms/step - loss: 12856.7607 - root_mean_squared_error: 113.3877 - val_loss: 11788.6650 - val_root_mean_squared_error: 108.5756\n",
            "Epoch 56/100\n",
            "2/2 [==============================] - 0s 60ms/step - loss: 12803.1387 - root_mean_squared_error: 113.1510 - val_loss: 11723.9043 - val_root_mean_squared_error: 108.2770\n",
            "Epoch 57/100\n",
            "2/2 [==============================] - 0s 74ms/step - loss: 12746.6289 - root_mean_squared_error: 112.9010 - val_loss: 11668.8311 - val_root_mean_squared_error: 108.0224\n",
            "Epoch 58/100\n",
            "2/2 [==============================] - 0s 66ms/step - loss: 12691.9082 - root_mean_squared_error: 112.6584 - val_loss: 11632.2070 - val_root_mean_squared_error: 107.8527\n",
            "Epoch 59/100\n",
            "2/2 [==============================] - 0s 74ms/step - loss: 12649.5029 - root_mean_squared_error: 112.4700 - val_loss: 11601.9121 - val_root_mean_squared_error: 107.7122\n",
            "Epoch 60/100\n",
            "2/2 [==============================] - 0s 60ms/step - loss: 12615.0195 - root_mean_squared_error: 112.3166 - val_loss: 11569.7939 - val_root_mean_squared_error: 107.5630\n",
            "Epoch 61/100\n",
            "2/2 [==============================] - 0s 74ms/step - loss: 12580.7734 - root_mean_squared_error: 112.1640 - val_loss: 11533.5225 - val_root_mean_squared_error: 107.3942\n",
            "Epoch 62/100\n",
            "2/2 [==============================] - 0s 78ms/step - loss: 12544.7246 - root_mean_squared_error: 112.0032 - val_loss: 11492.1455 - val_root_mean_squared_error: 107.2014\n",
            "Epoch 63/100\n",
            "2/2 [==============================] - 0s 85ms/step - loss: 12507.4766 - root_mean_squared_error: 111.8368 - val_loss: 11450.7568 - val_root_mean_squared_error: 107.0082\n",
            "Epoch 64/100\n",
            "2/2 [==============================] - 0s 73ms/step - loss: 12469.0225 - root_mean_squared_error: 111.6648 - val_loss: 11417.6123 - val_root_mean_squared_error: 106.8532\n",
            "Epoch 65/100\n",
            "2/2 [==============================] - 0s 87ms/step - loss: 12432.3477 - root_mean_squared_error: 111.5004 - val_loss: 11389.4434 - val_root_mean_squared_error: 106.7213\n",
            "Epoch 66/100\n",
            "2/2 [==============================] - 0s 69ms/step - loss: 12401.3418 - root_mean_squared_error: 111.3613 - val_loss: 11361.9072 - val_root_mean_squared_error: 106.5922\n",
            "Epoch 67/100\n",
            "2/2 [==============================] - 0s 77ms/step - loss: 12372.1875 - root_mean_squared_error: 111.2303 - val_loss: 11334.2676 - val_root_mean_squared_error: 106.4625\n",
            "Epoch 68/100\n",
            "2/2 [==============================] - 0s 84ms/step - loss: 12343.5352 - root_mean_squared_error: 111.1015 - val_loss: 11306.1221 - val_root_mean_squared_error: 106.3303\n",
            "Epoch 69/100\n",
            "2/2 [==============================] - 0s 77ms/step - loss: 12313.7764 - root_mean_squared_error: 110.9675 - val_loss: 11276.6338 - val_root_mean_squared_error: 106.1915\n",
            "Epoch 70/100\n",
            "2/2 [==============================] - 0s 90ms/step - loss: 12283.5566 - root_mean_squared_error: 110.8312 - val_loss: 11245.6582 - val_root_mean_squared_error: 106.0455\n",
            "Epoch 71/100\n",
            "2/2 [==============================] - 0s 87ms/step - loss: 12251.8691 - root_mean_squared_error: 110.6882 - val_loss: 11215.5020 - val_root_mean_squared_error: 105.9033\n",
            "Epoch 72/100\n",
            "2/2 [==============================] - 0s 90ms/step - loss: 12221.0859 - root_mean_squared_error: 110.5490 - val_loss: 11187.3379 - val_root_mean_squared_error: 105.7702\n",
            "Epoch 73/100\n",
            "2/2 [==============================] - 0s 82ms/step - loss: 12191.7344 - root_mean_squared_error: 110.4162 - val_loss: 11159.6787 - val_root_mean_squared_error: 105.6394\n",
            "Epoch 74/100\n",
            "2/2 [==============================] - 0s 86ms/step - loss: 12163.3135 - root_mean_squared_error: 110.2874 - val_loss: 11132.2041 - val_root_mean_squared_error: 105.5093\n",
            "Epoch 75/100\n",
            "2/2 [==============================] - 0s 81ms/step - loss: 12134.8740 - root_mean_squared_error: 110.1584 - val_loss: 11104.8779 - val_root_mean_squared_error: 105.3797\n",
            "Epoch 76/100\n",
            "2/2 [==============================] - 0s 69ms/step - loss: 12106.3809 - root_mean_squared_error: 110.0290 - val_loss: 11077.6191 - val_root_mean_squared_error: 105.2503\n",
            "Epoch 77/100\n",
            "2/2 [==============================] - 0s 62ms/step - loss: 12078.1885 - root_mean_squared_error: 109.9008 - val_loss: 11050.4160 - val_root_mean_squared_error: 105.1210\n",
            "Epoch 78/100\n",
            "2/2 [==============================] - 0s 54ms/step - loss: 12050.2861 - root_mean_squared_error: 109.7738 - val_loss: 11023.3418 - val_root_mean_squared_error: 104.9921\n",
            "Epoch 79/100\n",
            "2/2 [==============================] - 0s 52ms/step - loss: 12022.2607 - root_mean_squared_error: 109.6461 - val_loss: 10996.3965 - val_root_mean_squared_error: 104.8637\n",
            "Epoch 80/100\n",
            "2/2 [==============================] - 0s 63ms/step - loss: 11994.3779 - root_mean_squared_error: 109.5188 - val_loss: 10969.5625 - val_root_mean_squared_error: 104.7357\n",
            "Epoch 81/100\n",
            "2/2 [==============================] - 0s 62ms/step - loss: 11966.7236 - root_mean_squared_error: 109.3925 - val_loss: 10942.8594 - val_root_mean_squared_error: 104.6081\n",
            "Epoch 82/100\n",
            "2/2 [==============================] - 0s 51ms/step - loss: 11939.0801 - root_mean_squared_error: 109.2661 - val_loss: 10916.2744 - val_root_mean_squared_error: 104.4810\n",
            "Epoch 83/100\n",
            "2/2 [==============================] - 0s 60ms/step - loss: 11911.6523 - root_mean_squared_error: 109.1405 - val_loss: 10889.8135 - val_root_mean_squared_error: 104.3543\n",
            "Epoch 84/100\n",
            "2/2 [==============================] - 0s 55ms/step - loss: 11884.2656 - root_mean_squared_error: 109.0150 - val_loss: 10863.4629 - val_root_mean_squared_error: 104.2279\n",
            "Epoch 85/100\n",
            "2/2 [==============================] - 0s 37ms/step - loss: 11856.8740 - root_mean_squared_error: 108.8893 - val_loss: 10837.1582 - val_root_mean_squared_error: 104.1017\n",
            "Epoch 86/100\n",
            "2/2 [==============================] - 0s 37ms/step - loss: 11829.4502 - root_mean_squared_error: 108.7633 - val_loss: 10810.7783 - val_root_mean_squared_error: 103.9749\n",
            "Epoch 87/100\n",
            "2/2 [==============================] - 0s 41ms/step - loss: 11801.5801 - root_mean_squared_error: 108.6351 - val_loss: 10783.9287 - val_root_mean_squared_error: 103.8457\n",
            "Epoch 88/100\n",
            "2/2 [==============================] - 0s 37ms/step - loss: 11772.2773 - root_mean_squared_error: 108.5001 - val_loss: 10755.5029 - val_root_mean_squared_error: 103.7087\n",
            "Epoch 89/100\n",
            "2/2 [==============================] - 0s 36ms/step - loss: 11740.3857 - root_mean_squared_error: 108.3531 - val_loss: 10723.0088 - val_root_mean_squared_error: 103.5520\n",
            "Epoch 90/100\n",
            "2/2 [==============================] - 0s 40ms/step - loss: 11704.9199 - root_mean_squared_error: 108.1893 - val_loss: 10682.6514 - val_root_mean_squared_error: 103.3569\n",
            "Epoch 91/100\n",
            "2/2 [==============================] - 0s 38ms/step - loss: 11665.0898 - root_mean_squared_error: 108.0050 - val_loss: 10634.4316 - val_root_mean_squared_error: 103.1234\n",
            "Epoch 92/100\n",
            "2/2 [==============================] - 0s 55ms/step - loss: 11621.6836 - root_mean_squared_error: 107.8039 - val_loss: 10594.2861 - val_root_mean_squared_error: 102.9286\n",
            "Epoch 93/100\n",
            "2/2 [==============================] - 0s 44ms/step - loss: 11581.8838 - root_mean_squared_error: 107.6192 - val_loss: 10566.0615 - val_root_mean_squared_error: 102.7914\n",
            "Epoch 94/100\n",
            "2/2 [==============================] - 0s 38ms/step - loss: 11549.5322 - root_mean_squared_error: 107.4688 - val_loss: 10539.4629 - val_root_mean_squared_error: 102.6619\n",
            "Epoch 95/100\n",
            "2/2 [==============================] - 0s 39ms/step - loss: 11521.8828 - root_mean_squared_error: 107.3400 - val_loss: 10513.0029 - val_root_mean_squared_error: 102.5329\n",
            "Epoch 96/100\n",
            "2/2 [==============================] - 0s 38ms/step - loss: 11494.5664 - root_mean_squared_error: 107.2127 - val_loss: 10486.6875 - val_root_mean_squared_error: 102.4045\n",
            "Epoch 97/100\n",
            "2/2 [==============================] - 0s 36ms/step - loss: 11467.5859 - root_mean_squared_error: 107.0868 - val_loss: 10460.5801 - val_root_mean_squared_error: 102.2770\n",
            "Epoch 98/100\n",
            "2/2 [==============================] - 0s 38ms/step - loss: 11440.5146 - root_mean_squared_error: 106.9603 - val_loss: 10434.6543 - val_root_mean_squared_error: 102.1502\n",
            "Epoch 99/100\n",
            "2/2 [==============================] - 0s 73ms/step - loss: 11413.6611 - root_mean_squared_error: 106.8347 - val_loss: 10408.8770 - val_root_mean_squared_error: 102.0239\n",
            "Epoch 100/100\n",
            "2/2 [==============================] - 0s 36ms/step - loss: 11387.0996 - root_mean_squared_error: 106.7104 - val_loss: 10383.2588 - val_root_mean_squared_error: 101.8983\n"
          ]
        }
      ],
      "source": [
        "# Defining early stopping criteria\n",
        "early_stop = EarlyStopping(\n",
        "    monitor='val_root_mean_squared_error',\n",
        "    min_delta=0.0,\n",
        "    patience=5,\n",
        "    verbose=1,\n",
        "    mode='min'\n",
        ")\n",
        "\n",
        "# Training the GRU model with early stopping\n",
        "gru_history = gru_model.fit(\n",
        "    X_train,\n",
        "    y_train,\n",
        "    epochs=100,\n",
        "    validation_data=(X_test, y_test),\n",
        "    callbacks=[early_stop]\n",
        ")\n",
        "\n",
        "# Recording the end time of training\n",
        "end_time = time.time()"
      ]
    },
    {
      "cell_type": "markdown",
      "metadata": {
        "id": "xKjLR3u9rL-9"
      },
      "source": [
        "## GRU model evaluation Graph"
      ]
    },
    {
      "cell_type": "code",
      "execution_count": 86,
      "metadata": {
        "colab": {
          "base_uri": "https://localhost:8080/",
          "height": 554
        },
        "id": "7-g8Ht67rAF5",
        "outputId": "9653ca84-cfd2-4d8a-e23f-53050610bb09"
      },
      "outputs": [
        {
          "output_type": "display_data",
          "data": {
            "text/plain": [
              "<Figure size 1400x700 with 2 Axes>"
            ],
            "image/png": "[encoded data removed]"
          },
          "metadata": {}
        }
      ],
      "source": [
        "# Plotting GRU model evaluation metrics\n",
        "fig, (ax1, ax2) = plt.subplots(1, 2, figsize=(14, 7))\n",
        "fig.suptitle('GRU Model Evaluation Graph')\n",
        "\n",
        "# Plotting loss\n",
        "ax1.set_title('Loss')\n",
        "ax1.plot(gru_history.history['loss'], label='Train Loss')\n",
        "ax1.plot(gru_history.history['val_loss'], label='Test Loss')\n",
        "ax1.set_xlabel('Epoch')\n",
        "ax1.set_ylabel('Loss')\n",
        "ax1.legend()\n",
        "\n",
        "# Plotting RMSE\n",
        "ax2.set_title('Root Mean Squared Error')\n",
        "ax2.plot(gru_history.history['root_mean_squared_error'], label='Train RMSE')\n",
        "ax2.plot(gru_history.history['val_root_mean_squared_error'], label='Test RMSE')\n",
        "ax2.set_xlabel('Epoch')\n",
        "ax2.set_ylabel('RMSE')\n",
        "ax2.legend()\n",
        "\n",
        "plt.show()"
      ]
    },
    {
      "cell_type": "code",
      "execution_count": 87,
      "metadata": {
        "colab": {
          "base_uri": "https://localhost:8080/"
        },
        "id": "efQNBZaGrX_l",
        "outputId": "0de411b0-6764-413d-b612-79a5a3d2ae00"
      },
      "outputs": [
        {
          "output_type": "stream",
          "name": "stdout",
          "text": [
            "1/1 [==============================] - 1s 606ms/step\n",
            "RMSE: 101.89827872962093\n"
          ]
        }
      ],
      "source": [
        "# Predicting on the test data\n",
        "y_pred = gru_model.predict(X_test)\n",
        "\n",
        "# Calculating RMSE\n",
        "rmse = mean_squared_error(y_test, y_pred, squared=False)\n",
        "\n",
        "# Printing the calculated RMSE\n",
        "print(\"RMSE:\", rmse)"
      ]
    },
    {
      "cell_type": "markdown",
      "metadata": {
        "id": "69KgXWvnLz2o"
      },
      "source": [
        "The GRU model has an RMSE of 101.49915529308181 for predicting the closing stock price of a publicly traded company. This indicates that the model's predictions are, on average, off by approximately $101.50 from the actual stock prices."
      ]
    },
    {
      "cell_type": "markdown",
      "source": [
        "### Testing on the last 10 of data"
      ],
      "metadata": {
        "id": "Tf7ecZBgSOTr"
      }
    },
    {
      "cell_type": "code",
      "execution_count": 88,
      "metadata": {
        "colab": {
          "base_uri": "https://localhost:8080/"
        },
        "id": "itKmN4FYrfbL",
        "outputId": "22fb61f5-1d91-42ce-d61a-b182aaf56749"
      },
      "outputs": [
        {
          "output_type": "stream",
          "name": "stdout",
          "text": [
            "1/1 [==============================] - 0s 22ms/step\n",
            "Predictions gru Models predicted stock for the tommorrow stock price:\n",
            "[[19.575874]]\n"
          ]
        }
      ],
      "source": [
        "import numpy as np\n",
        "\n",
        "# Reshape the prior_days array for model input\n",
        "prior_days_reshaped = prior_days.reshape(1, 9, 1)\n",
        "\n",
        "# Test the model on the last 10 days of prior data\n",
        "predictions = gru_model.predict(prior_days_reshaped)\n",
        "\n",
        "# Print the predictions\n",
        "print(\"Predictions gru Models predicted stock for the tommorrow stock price:\")\n",
        "print(predictions)"
      ]
    },
    {
      "cell_type": "markdown",
      "metadata": {
        "id": "UYjl9JMLLz2p"
      },
      "source": [
        "The GRU model predicted a stock price of 19.575874 for the next day with an RMSE of 101.89827872962093."
      ]
    },
    {
      "cell_type": "markdown",
      "metadata": {
        "id": "T_sFajIWsQP9"
      },
      "source": [
        "## Model 4 : Conv1d Model"
      ]
    },
    {
      "cell_type": "code",
      "execution_count": 89,
      "metadata": {
        "id": "IGApksCEsHVw"
      },
      "outputs": [],
      "source": [
        "# Define a Sequential model for Convolutional Neural Network (CNN)\n",
        "conv_model = Sequential([\n",
        "    # Add a 1D convolutional layer with 64 filters, kernel size 2, and ReLU activation function\n",
        "    Conv1D(filters=64, kernel_size=2, activation='relu', input_shape=[n_steps, n_inputs]),\n",
        "\n",
        "    # Flatten the output of the convolutional layer\n",
        "    Flatten(),\n",
        "\n",
        "    # Add a Dense layer with a single unit for final output\n",
        "    Dense(1)\n",
        "])"
      ]
    },
    {
      "cell_type": "code",
      "execution_count": 90,
      "metadata": {
        "id": "sLGwynbOsXAk"
      },
      "outputs": [],
      "source": [
        "# Compile the convolutional model\n",
        "conv_model.compile(\n",
        "    # Set the loss function to mean squared error\n",
        "    loss=\"mean_squared_error\",\n",
        "\n",
        "    # Define the optimizer as Nadam with a learning rate of 0.001\n",
        "    optimizer=tf.keras.optimizers.Nadam(learning_rate=0.001),\n",
        "\n",
        "    # Add root mean squared error as a metric to monitor model performance\n",
        "    metrics=[tf.keras.metrics.RootMeanSquaredError()]\n",
        ")"
      ]
    },
    {
      "cell_type": "code",
      "execution_count": 91,
      "metadata": {
        "colab": {
          "base_uri": "https://localhost:8080/"
        },
        "id": "pmuxGTs_smPS",
        "outputId": "44d468e1-d7ec-41d9-853a-91ab7f09a681"
      },
      "outputs": [
        {
          "output_type": "stream",
          "name": "stdout",
          "text": [
            "Epoch 1/100\n",
            "2/2 [==============================] - 1s 213ms/step - loss: 19516.1270 - root_mean_squared_error: 139.7001 - val_loss: 16243.3730 - val_root_mean_squared_error: 127.4495\n",
            "Epoch 2/100\n",
            "2/2 [==============================] - 0s 41ms/step - loss: 16974.6973 - root_mean_squared_error: 130.2870 - val_loss: 14007.5957 - val_root_mean_squared_error: 118.3537\n",
            "Epoch 3/100\n",
            "2/2 [==============================] - 0s 54ms/step - loss: 14732.9775 - root_mean_squared_error: 121.3795 - val_loss: 11894.8330 - val_root_mean_squared_error: 109.0634\n",
            "Epoch 4/100\n",
            "2/2 [==============================] - 0s 39ms/step - loss: 12623.6416 - root_mean_squared_error: 112.3550 - val_loss: 9933.8848 - val_root_mean_squared_error: 99.6689\n",
            "Epoch 5/100\n",
            "2/2 [==============================] - 0s 36ms/step - loss: 10577.2998 - root_mean_squared_error: 102.8460 - val_loss: 8052.8174 - val_root_mean_squared_error: 89.7375\n",
            "Epoch 6/100\n",
            "2/2 [==============================] - 0s 66ms/step - loss: 8675.2764 - root_mean_squared_error: 93.1412 - val_loss: 6369.5439 - val_root_mean_squared_error: 79.8094\n",
            "Epoch 7/100\n",
            "2/2 [==============================] - 0s 55ms/step - loss: 6944.7085 - root_mean_squared_error: 83.3349 - val_loss: 4882.3105 - val_root_mean_squared_error: 69.8735\n",
            "Epoch 8/100\n",
            "2/2 [==============================] - 0s 38ms/step - loss: 5447.1196 - root_mean_squared_error: 73.8046 - val_loss: 3632.6028 - val_root_mean_squared_error: 60.2711\n",
            "Epoch 9/100\n",
            "2/2 [==============================] - 0s 59ms/step - loss: 4122.6123 - root_mean_squared_error: 64.2076 - val_loss: 2581.2214 - val_root_mean_squared_error: 50.8057\n",
            "Epoch 10/100\n",
            "2/2 [==============================] - 0s 38ms/step - loss: 2999.6013 - root_mean_squared_error: 54.7686 - val_loss: 1730.5378 - val_root_mean_squared_error: 41.5997\n",
            "Epoch 11/100\n",
            "2/2 [==============================] - 0s 56ms/step - loss: 2105.6331 - root_mean_squared_error: 45.8872 - val_loss: 1084.5165 - val_root_mean_squared_error: 32.9320\n",
            "Epoch 12/100\n",
            "2/2 [==============================] - 0s 55ms/step - loss: 1378.8950 - root_mean_squared_error: 37.1335 - val_loss: 615.4968 - val_root_mean_squared_error: 24.8092\n",
            "Epoch 13/100\n",
            "2/2 [==============================] - 0s 39ms/step - loss: 832.4422 - root_mean_squared_error: 28.8521 - val_loss: 304.3322 - val_root_mean_squared_error: 17.4451\n",
            "Epoch 14/100\n",
            "2/2 [==============================] - 0s 61ms/step - loss: 469.4997 - root_mean_squared_error: 21.6679 - val_loss: 130.1301 - val_root_mean_squared_error: 11.4075\n",
            "Epoch 15/100\n",
            "2/2 [==============================] - 0s 42ms/step - loss: 224.5208 - root_mean_squared_error: 14.9840 - val_loss: 60.3442 - val_root_mean_squared_error: 7.7682\n",
            "Epoch 16/100\n",
            "2/2 [==============================] - 0s 39ms/step - loss: 87.3355 - root_mean_squared_error: 9.3453 - val_loss: 64.9651 - val_root_mean_squared_error: 8.0601\n",
            "Epoch 17/100\n",
            "2/2 [==============================] - 0s 39ms/step - loss: 32.4009 - root_mean_squared_error: 5.6922 - val_loss: 114.9989 - val_root_mean_squared_error: 10.7238\n",
            "Epoch 18/100\n",
            "2/2 [==============================] - 0s 40ms/step - loss: 27.8029 - root_mean_squared_error: 5.2728 - val_loss: 184.8338 - val_root_mean_squared_error: 13.5954\n",
            "Epoch 19/100\n",
            "2/2 [==============================] - 0s 56ms/step - loss: 51.5608 - root_mean_squared_error: 7.1806 - val_loss: 253.9998 - val_root_mean_squared_error: 15.9374\n",
            "Epoch 20/100\n",
            "2/2 [==============================] - 0s 56ms/step - loss: 81.8219 - root_mean_squared_error: 9.0455 - val_loss: 310.3315 - val_root_mean_squared_error: 17.6162\n",
            "Epoch 20: early stopping\n"
          ]
        }
      ],
      "source": [
        "# Define early stopping criteria\n",
        "early_stop = EarlyStopping(\n",
        "    monitor='val_root_mean_squared_error',  # Monitor validation root mean squared error\n",
        "    min_delta=0.0,  # Minimum change to qualify as an improvement\n",
        "    patience=5,  # Number of epochs with no improvement after which training will be stopped\n",
        "    verbose=1,  # Verbosity mode, 1 for updates, 0 for silent\n",
        "    mode='min'  # Monitor mode, 'min' to minimize monitored quantity\n",
        ")\n",
        "\n",
        "# Train the convolutional model\n",
        "conv_history = conv_model.fit(\n",
        "    X_train,  # Training input data\n",
        "    y_train,  # Training target data\n",
        "    epochs=100,  # Number of training epochs\n",
        "    validation_data=(X_test, y_test),  # Validation data\n",
        "    callbacks=[early_stop]  # List of callbacks to apply during training\n",
        ")\n",
        "\n",
        "# Record the end time of training\n",
        "end_time = time.time()"
      ]
    },
    {
      "cell_type": "markdown",
      "metadata": {
        "id": "VdeoQ0Czsu8r"
      },
      "source": [
        "### Conv1D Model Evaluation Graph"
      ]
    },
    {
      "cell_type": "code",
      "execution_count": 92,
      "metadata": {
        "colab": {
          "base_uri": "https://localhost:8080/",
          "height": 547
        },
        "id": "AcpHraK2soiL",
        "outputId": "b3c91aee-9cc8-45f8-a37a-1906b3d72f3a"
      },
      "outputs": [
        {
          "output_type": "display_data",
          "data": {
            "text/plain": [
              "<Figure size 1400x700 with 2 Axes>"
            ],
            "image/png": "[encoded data removed]"
          },
          "metadata": {}
        }
      ],
      "source": [
        "# Create a figure with two subplots\n",
        "fig, (ax1, ax2) = plt.subplots(1, 2, figsize=(14, 7))\n",
        "\n",
        "# Set the title of the figure\n",
        "fig.suptitle('Conv1D Model Evaluation')\n",
        "\n",
        "# Set title and plot training and validation loss on the first subplot\n",
        "ax1.set_title('loss')\n",
        "ax1.plot(conv_history.history['loss'], label='train')  # Plot training loss\n",
        "ax1.plot(conv_history.history['val_loss'], label='test')  # Plot validation loss\n",
        "ax1.legend(['train', 'test'], loc='upper left')  # Add legend to the plot\n",
        "\n",
        "# Set title and plot training and validation RMSE on the second subplot\n",
        "ax2.set_title('RMSE')\n",
        "ax2.plot(conv_history.history['root_mean_squared_error'], label='train')  # Plot training RMSE\n",
        "ax2.plot(conv_history.history['val_root_mean_squared_error'], label='test')  # Plot validation RMSE\n",
        "ax2.legend(['train', 'test'], loc='upper left')  # Add legend to the plot\n",
        "\n",
        "# Show the plot\n",
        "plt.show()\n"
      ]
    },
    {
      "cell_type": "code",
      "execution_count": 93,
      "metadata": {
        "colab": {
          "base_uri": "https://localhost:8080/"
        },
        "id": "3arxCHNfs3_z",
        "outputId": "e745e88e-5398-4e3c-f60a-7926d3474ed7"
      },
      "outputs": [
        {
          "output_type": "stream",
          "name": "stdout",
          "text": [
            "1/1 [==============================] - 0s 72ms/step\n",
            "17.61622698921352\n"
          ]
        }
      ],
      "source": [
        "# Predict the target values using the trained Conv1D model\n",
        "y_pred = conv_model.predict(X_test)\n",
        "\n",
        "# Calculate the root mean squared error (RMSE) between true and predicted target values\n",
        "# Mean squared error (MSE) is calculated first using mean_squared_error function,\n",
        "# then taking the square root to obtain RMSE\n",
        "rmse = mean_squared_error(y_test, y_pred) ** 0.5\n",
        "\n",
        "# Print the calculated RMSE\n",
        "print(rmse)"
      ]
    },
    {
      "cell_type": "markdown",
      "metadata": {
        "id": "iMEHhzQfLz2q"
      },
      "source": [
        "### Testing on the last 10 of data"
      ]
    },
    {
      "cell_type": "code",
      "execution_count": 94,
      "metadata": {
        "colab": {
          "base_uri": "https://localhost:8080/"
        },
        "id": "8_Se7B4Ctdq0",
        "outputId": "fdaab42b-bc95-494f-d61a-1c82479e4f54"
      },
      "outputs": [
        {
          "output_type": "stream",
          "name": "stdout",
          "text": [
            "1/1 [==============================] - 0s 21ms/step\n",
            "Predictions conv Models predicted stock for the tommorrow stock price:\n",
            "[[165.03098]]\n"
          ]
        }
      ],
      "source": [
        "# Reshape the prior_days array for model input\n",
        "prior_days_reshaped = prior_days.reshape(1, 9, 1)\n",
        "\n",
        "# Test the model on the last 10 days of prior data\n",
        "predictions = conv_model.predict(prior_days_reshaped)\n",
        "\n",
        "# Print the predictions\n",
        "print(\"Predictions conv Models predicted stock for the tommorrow stock price:\")\n",
        "print(predictions)"
      ]
    },
    {
      "cell_type": "markdown",
      "metadata": {
        "id": "zrKuX_fKLz2q"
      },
      "source": [
        "The Conv1D model predicted a stock price of 165.03098 for the next day with an RMSE of 17.6162."
      ]
    },
    {
      "cell_type": "markdown",
      "metadata": {
        "id": "-9kLJXB7Lz2q"
      },
      "source": [
        "## Summary and Analysis."
      ]
    },
    {
      "cell_type": "markdown",
      "metadata": {
        "id": "7GAWkmqALz2r"
      },
      "source": [
        "**Summary of Model Performance (MSE)**:\n",
        "\n",
        "| Model Type  | Test MSE |\n",
        "|-------------|----------|\n",
        "| RNN         | 109.07   |\n",
        "| LSTM        | 104.94   |\n",
        "| GRU         | 101.89   |\n",
        "| Conv1D      | 17.61    |\n",
        "\n",
        "These values indicate the MSE achieved by each model type on the test dataset. A lower MSE generally indicates better performance."
      ]
    },
    {
      "cell_type": "markdown",
      "metadata": {
        "id": "zWqS219ALz2r"
      },
      "source": [
        "**Summary of Last 10 Days prediction**\n",
        "\n",
        "| Model Type  | Result   |\n",
        "|-------------|----------|\n",
        "| RNN         | 12.32    |\n",
        "| LSTM        | 16.49    |\n",
        "| GRU         | 19.57    |\n",
        "| Conv1D      | 165.03   |\n",
        "\n",
        "These values represent the model's predictions for the last 10 days and the resulting MSE. Again, a lower MSE indicates better performance in terms of prediction accuracy."
      ]
    },
    {
      "cell_type": "markdown",
      "metadata": {
        "id": "RkY--lgyLz2r"
      },
      "source": [
        "## Based on these summaries:\n",
        "\n",
        "The Conv1D model performs significantly better than the others on the test dataset, achieving the lowest MSE.\n",
        "However, on the last 10 days' predictions, the RNN model has the lowest MSE, indicating better accuracy in short-term predictions compared to the other models.\n",
        "These results suggest that the Conv1D model might be overfitting or not generalizing well to unseen data, despite performing well on the test dataset. Conversely, the RNN model appears to generalize better to the short-term prediction task."
      ]
    },
    {
      "cell_type": "markdown",
      "metadata": {
        "id": "qeoK9cXKLz2r"
      },
      "source": [
        "The evaluation of multiple models based on their performance metrics and prediction results allows for a comprehensive comparison to determine the most suitable model for predicting stock prices. In this analysis, four types of models were assessed: RNN, LSTM, GRU, and Conv1D. Here's a summary of the findings:\n",
        "\n",
        "1. **Model Performance Metrics:**\n",
        "   - Test Mean Squared Error (MSE) was used as the primary performance metric.\n",
        "   - Lower MSE values indicate better performance in accurately predicting stock prices.\n",
        "\n",
        "2. **Summary of Model Performance:**\n",
        "   - **RNN Model:** Achieved a test MSE of 109.07, with a last 10 days prediction result of 12.32.\n",
        "   - **LSTM Model:** Had a test MSE of 104.97, with a last 10 days prediction result of 16.49.\n",
        "   - **GRU Model:** Obtained a test MSE of 101.89, with a last 10 days prediction result of 19.57.\n",
        "   - **Conv1D Model:** Demonstrated superior performance with a test MSE of 17.61, but had a higher last 10 days prediction result of 165.03.\n",
        "\n",
        "3. **Selection of the Best Model:**\n",
        "   - While all models had relatively high last 10 days prediction results, the Conv1D Model stood out for its significantly lower test MSE of 17.61.\n",
        "   - Despite its higher last 10 days prediction result, the Conv1D Model's superior performance in minimizing MSE indicates better accuracy in predicting stock prices overall.\n",
        "\n",
        "4. **Conclusion:**\n",
        "   - Based on the evaluation criteria of test MSE and last 10 days prediction result, the Conv1D Model emerges as the most suitable choice for predicting stock prices among the considered models.\n",
        "   - The Conv1D Model's ability to minimize test MSE demonstrates its effectiveness in accurately forecasting stock prices, outweighing the slightly higher deviation observed in the last 10 days prediction result.\n",
        "\n",
        "In summary, the Conv1D Model presents itself as the optimal model for predicting stock prices, offering a balance between accuracy and reliability in forecasting future trends."
      ]
    }
  ],
  "metadata": {
    "colab": {
      "provenance": [],
      "toc_visible": true
    },
    "kernelspec": {
      "display_name": "Python 3 (ipykernel)",
      "language": "python",
      "name": "python3"
    },
    "language_info": {
      "codemirror_mode": {
        "name": "ipython",
        "version": 3
      },
      "file_extension": ".py",
      "mimetype": "text/x-python",
      "name": "python",
      "nbconvert_exporter": "python",
      "pygments_lexer": "ipython3",
      "version": "3.8.19"
    }
  },
  "nbformat": 4,
  "nbformat_minor": 0
}